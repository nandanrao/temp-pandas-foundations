{
 "cells": [
  {
   "cell_type": "markdown",
   "metadata": {},
   "source": [
    "<img src = \"bgsedsc_0.jpg\">"
   ]
  },
  {
   "cell_type": "markdown",
   "metadata": {
    "ein.tags": "worksheet-0",
    "slideshow": {
     "slide_type": "-"
    }
   },
   "source": [
    "## Extra challenges for Python (+Numpy and Pandas)\n",
    "\n",
    "This is a short list of short challenges to verify your knowledge"
   ]
  },
  {
   "cell_type": "markdown",
   "metadata": {},
   "source": [
    "### Lists"
   ]
  },
  {
   "cell_type": "code",
   "execution_count": 17,
   "metadata": {},
   "outputs": [
    {
     "data": {
      "text/plain": [
       "[1, 2, 3, 4, 5, 6, 7, 8, 9, 10]"
      ]
     },
     "execution_count": 17,
     "metadata": {},
     "output_type": "execute_result"
    }
   ],
   "source": [
    "# Challenge 1: Create a list variable with a sequence of number from 1 to 10.\n",
    "mylist=[1,2,3,4,5,6,7,8,9,10]\n",
    "#or \n",
    "#mylist=list(range(1, 11))\n",
    "mylist"
   ]
  },
  {
   "cell_type": "code",
   "execution_count": 18,
   "metadata": {},
   "outputs": [
    {
     "data": {
      "text/plain": [
       "[1, None, 3, 4, 5, None, 7, 8, 9, 10]"
      ]
     },
     "execution_count": 18,
     "metadata": {},
     "output_type": "execute_result"
    }
   ],
   "source": [
    "# Challenge 2: From previous one,  set the 2nd and 6th elements to 'no value'\n",
    "mylist[1]= mylist[5]=None\n",
    "\n",
    "mylist"
   ]
  },
  {
   "cell_type": "code",
   "execution_count": 19,
   "metadata": {},
   "outputs": [
    {
     "data": {
      "text/plain": [
       "[8, 9, 10]"
      ]
     },
     "execution_count": 19,
     "metadata": {},
     "output_type": "execute_result"
    }
   ],
   "source": [
    "# Challenge 3: From previous one,  print last 3 elements of the list\n",
    "mylist[-3:]"
   ]
  },
  {
   "cell_type": "code",
   "execution_count": 29,
   "metadata": {},
   "outputs": [
    {
     "data": {
      "text/plain": [
       "47"
      ]
     },
     "execution_count": 29,
     "metadata": {},
     "output_type": "execute_result"
    }
   ],
   "source": [
    "# Challenge 4: From previous, sum all the elements that are different than None\n",
    "# Hint: do it first with a for loop\n",
    "# then as alternative, try the same with sum() of a list compehension that discards nulls\n",
    "\n",
    "mysum=0\n",
    "for i in mylist:\n",
    "    if i is not None:\n",
    "        mysum+=i\n",
    "mysum\n",
    "\n",
    "# or\n",
    "#sum([i for i in mylist if i is not None])\n"
   ]
  },
  {
   "cell_type": "markdown",
   "metadata": {},
   "source": [
    "## Tuples"
   ]
  },
  {
   "cell_type": "code",
   "execution_count": 3,
   "metadata": {},
   "outputs": [
    {
     "data": {
      "text/plain": [
       "[('bob', 25),\n",
       " ('bertha', 32),\n",
       " ('robert', 53),\n",
       " ('dad', 48),\n",
       " ('angela', 23),\n",
       " ('liz', 43)]"
      ]
     },
     "execution_count": 3,
     "metadata": {},
     "output_type": "execute_result"
    }
   ],
   "source": [
    "# Challenge 1: Create a list of 6 tuples, each tuple would be a pair of name and an age (to your choice, but one has to be 'bob')\n",
    "mytuple=[('bob',25),('bertha',32),('robert', 53),('dad',48),('angela',23),('liz',43)]\n",
    "mytuple"
   ]
  },
  {
   "cell_type": "code",
   "execution_count": 42,
   "metadata": {},
   "outputs": [
    {
     "data": {
      "text/plain": [
       "[25]"
      ]
     },
     "execution_count": 42,
     "metadata": {},
     "output_type": "execute_result"
    }
   ],
   "source": [
    "# Challenge 2: Print bob's age\n",
    "mytuple[0][1] #knowing position\n",
    "\n",
    "# or\n",
    "#[age for name,age in mytuple if name=='bob']"
   ]
  },
  {
   "cell_type": "code",
   "execution_count": 47,
   "metadata": {},
   "outputs": [
    {
     "data": {
      "text/plain": [
       "['bob', 'bertha', 'angela']"
      ]
     },
     "execution_count": 47,
     "metadata": {},
     "output_type": "execute_result"
    }
   ],
   "source": [
    "# Challenge 3: Extract names of people whose age is under certain value\n",
    "Limit=40\n",
    "output=[]\n",
    "for name,age in mytuple:\n",
    "    if age<40:\n",
    "        output+= [name]  \n",
    "        # or output.append(name)\n",
    "output\n",
    "\n",
    "#or [name for name,age in mytuple if age<40]"
   ]
  },
  {
   "cell_type": "markdown",
   "metadata": {},
   "source": [
    "## Dictionaries"
   ]
  },
  {
   "cell_type": "code",
   "execution_count": 12,
   "metadata": {},
   "outputs": [
    {
     "data": {
      "text/plain": [
       "[{'name': 'bob', 'age': 25},\n",
       " {'name': 'bertha', 'age': 32},\n",
       " {'name': 'robert', 'age': 53},\n",
       " {'name': 'dad', 'age': 48},\n",
       " {'name': 'angela', 'age': 23},\n",
       " {'name': 'liz', 'age': 43}]"
      ]
     },
     "execution_count": 12,
     "metadata": {},
     "output_type": "execute_result"
    }
   ],
   "source": [
    "# Challenge 1: Create a list of dictionaries using same info that we had in the list of tuple of challenge #1 in tuples\n",
    "mydict=[{'name':'bob','age':25},{'name':'bertha','age':32},{'name':'robert','age': 53},\n",
    "        {'name':'dad','age':48},{'name':'angela','age':23},{'name':'liz','age':43}]\n",
    "mydict"
   ]
  },
  {
   "cell_type": "code",
   "execution_count": 13,
   "metadata": {},
   "outputs": [
    {
     "data": {
      "text/plain": [
       "25"
      ]
     },
     "execution_count": 13,
     "metadata": {},
     "output_type": "execute_result"
    }
   ],
   "source": [
    "# Challenge 2: Print bob's age\n",
    "mydict[0]['age']\n",
    "\n",
    "# if we don't know position\n",
    "age=None\n",
    "for person in mydict:\n",
    "    if person['name']=='bob':\n",
    "        age=person['age']\n",
    "age\n",
    "\n",
    "# or\n",
    "#[person['age'] for person in mydict if person['name']=='bob']"
   ]
  },
  {
   "cell_type": "code",
   "execution_count": 14,
   "metadata": {},
   "outputs": [
    {
     "data": {
      "text/plain": [
       "['bob', 'bertha', 'angela']"
      ]
     },
     "execution_count": 14,
     "metadata": {},
     "output_type": "execute_result"
    }
   ],
   "source": [
    "# Challenge 3: Extract names of people whose age is under certain value\n",
    "# Do it first using for a loop, then a list comprehension\n",
    "Limit=40\n",
    "out=[]\n",
    "for person in mydict:\n",
    "    if person['age']<Limit:\n",
    "        out += [person['name']]\n",
    "        #or out.append(person['name'])\n",
    "out\n",
    "\n",
    "#or [person['name'] for person in mydict if person['age']<Limit]"
   ]
  },
  {
   "cell_type": "code",
   "execution_count": 15,
   "metadata": {},
   "outputs": [
    {
     "data": {
      "text/plain": [
       "[{'name': 'bob', 'age': 25, 'best_friends': [34, 23, 26]},\n",
       " {'name': 'bertha', 'age': 32, 'best_friends': [21, 19, 45]},\n",
       " {'name': 'robert', 'age': 53, 'best_friends': [43, 56]},\n",
       " {'name': 'dad', 'age': 48, 'best_friends': [24, 35, 41]},\n",
       " {'name': 'angela', 'age': 23, 'best_friends': [21, 23, 22]},\n",
       " {'name': 'liz', 'age': 43, 'best_friends': [45, 41]}]"
      ]
     },
     "execution_count": 15,
     "metadata": {},
     "output_type": "execute_result"
    }
   ],
   "source": [
    "# Challenge 4: Add a new key to our list of dictionaries, that is the ages of best friends of the related person\n",
    "ages=[[34,23,26],[21,19,45],[43,56],[24,35,41],[21,23,22],[45,41]]\n",
    "for i in range(0,len(mydict)):\n",
    "    mydict[i].update( {\"best_friends\":ages[i]})\n",
    "\n",
    "mydict"
   ]
  },
  {
   "cell_type": "markdown",
   "metadata": {},
   "source": [
    "## Functions"
   ]
  },
  {
   "cell_type": "code",
   "execution_count": 5,
   "metadata": {},
   "outputs": [
    {
     "data": {
      "text/plain": [
       "('bob', 33)"
      ]
     },
     "execution_count": 5,
     "metadata": {},
     "output_type": "execute_result"
    }
   ],
   "source": [
    "# Challenge 1: Build a function that receives as input one tuple from our list of tuples (tuples section) , and returns the name and (his age + 10)\n",
    "def check_age(onetuple):\n",
    "    return onetuple[0],onetuple[1]+10\n",
    "\n",
    "# Test it with this function\n",
    "onetuple=('bob',23)#one of the valid names\n",
    "check_age(onetuple)"
   ]
  },
  {
   "cell_type": "code",
   "execution_count": 10,
   "metadata": {},
   "outputs": [
    {
     "name": "stdout",
     "output_type": "stream",
     "text": [
      "['bob', 35, 'bertha', 42, 'robert', 63, 'dad', 58, 'angela', 33, 'liz', 53]\n"
     ]
    },
    {
     "data": {
      "text/plain": [
       "[('bob', 35),\n",
       " ('bertha', 42),\n",
       " ('robert', 63),\n",
       " ('dad', 58),\n",
       " ('angela', 33),\n",
       " ('liz', 53)]"
      ]
     },
     "execution_count": 10,
     "metadata": {},
     "output_type": "execute_result"
    }
   ],
   "source": [
    "# Challenge 2: Apply previous function to all tuples in our list of tuples\n",
    "output=[]\n",
    "for tuples in mytuple:\n",
    "    output+=check_age(tuples)\n",
    "print(output)\n",
    "\n",
    "#or [check_age(onetuple) for onetuple in mytuple]"
   ]
  },
  {
   "cell_type": "code",
   "execution_count": 19,
   "metadata": {},
   "outputs": [
    {
     "data": {
      "text/plain": [
       "34"
      ]
     },
     "execution_count": 19,
     "metadata": {},
     "output_type": "execute_result"
    }
   ],
   "source": [
    "# Challenge 3: Build a function that receives as input one name the dictionary that we built in challenge #3 (section dictionaries) and yields a tuple of 'name' and maximum age of best friends\n",
    "# Test it with some names of our list of dictionaries\n",
    "def check_best(name, dict):\n",
    "    max_best=None\n",
    "    for dict in mydict:        \n",
    "        if dict['name']==name:\n",
    "            max_best=max(dict['best_friends'])\n",
    "    return max_best\n",
    "\n",
    "check_best('bob', dict)"
   ]
  },
  {
   "cell_type": "code",
   "execution_count": 21,
   "metadata": {},
   "outputs": [
    {
     "data": {
      "text/plain": [
       "'Joan is not in our list'"
      ]
     },
     "execution_count": 21,
     "metadata": {},
     "output_type": "execute_result"
    }
   ],
   "source": [
    "# Challenge 4: Modify previus function, so that handles names that are not present\n",
    "# i.e. when checking a new names, yield a message such as ('Robert is not in our list')\n",
    "def check_best(name, dict):\n",
    "    max_best=None\n",
    "    for dict in mydict:        \n",
    "        if dict['name']==name:\n",
    "            max_best=max(dict['best_friends'])\n",
    "    if max_best is None:\n",
    "        max_best=name+ ' is not in our list'\n",
    "    return max_best\n",
    "\n",
    "\n",
    "# Test it with a new name\n",
    "check_best('Joan', dict)"
   ]
  },
  {
   "cell_type": "code",
   "execution_count": 24,
   "metadata": {},
   "outputs": [
    {
     "data": {
      "text/plain": [
       "[34, 45, 56, 41, 23, 45]"
      ]
     },
     "execution_count": 24,
     "metadata": {},
     "output_type": "execute_result"
    }
   ],
   "source": [
    "# Challenge 5: Aply previous function to all names in our list of dictionaries\n",
    "out=[]\n",
    "for dict in mydict:\n",
    "    myname= dict['name']\n",
    "    mybest=check_best(myname,mydict)\n",
    "    out.append(mybest)\n",
    "out\n",
    "\n"
   ]
  },
  {
   "cell_type": "markdown",
   "metadata": {},
   "source": [
    "## Numpy arrays"
   ]
  },
  {
   "cell_type": "code",
   "execution_count": 69,
   "metadata": {},
   "outputs": [
    {
     "data": {
      "text/plain": [
       "array([2, 5, 7])"
      ]
     },
     "execution_count": 69,
     "metadata": {},
     "output_type": "execute_result"
    }
   ],
   "source": [
    "# Challenge 1: Create two vectors (arrays) whose content is (2,5,7) and (3,5,7)\n",
    "# don't forget to import numpy module\n",
    "import numpy as np\n",
    "array1=np.array([2,5,7])\n",
    "array2=np.array([3,5,7])\n",
    "array1"
   ]
  },
  {
   "cell_type": "code",
   "execution_count": 70,
   "metadata": {},
   "outputs": [
    {
     "data": {
      "text/plain": [
       "80"
      ]
     },
     "execution_count": 70,
     "metadata": {},
     "output_type": "execute_result"
    }
   ],
   "source": [
    "# Challenge 2: Compute the dot product of the previous vectors\n",
    "array1.dot(array2)"
   ]
  },
  {
   "cell_type": "code",
   "execution_count": 72,
   "metadata": {},
   "outputs": [
    {
     "data": {
      "text/plain": [
       "array([2, 5, 7, 3, 5, 7])"
      ]
     },
     "execution_count": 72,
     "metadata": {},
     "output_type": "execute_result"
    }
   ],
   "source": [
    "# Challenge 3: Concatenate both vectors (arrays) into one\n",
    "array=np.concatenate([array1,array2])\n",
    "array"
   ]
  },
  {
   "cell_type": "code",
   "execution_count": 73,
   "metadata": {},
   "outputs": [
    {
     "data": {
      "text/plain": [
       "array([[2, 5, 7],\n",
       "       [3, 5, 7]])"
      ]
     },
     "execution_count": 73,
     "metadata": {},
     "output_type": "execute_result"
    }
   ],
   "source": [
    "# Challenge 3: Get previous vector and reshape to a matrix (2d array) of 2 rows and 3 columns\n",
    "matrix=array.reshape(2,3)\n",
    "matrix"
   ]
  },
  {
   "cell_type": "code",
   "execution_count": 76,
   "metadata": {},
   "outputs": [
    {
     "data": {
      "text/plain": [
       "array([[ 5, 11, 10],\n",
       "       [ 4,  6,  7]])"
      ]
     },
     "execution_count": 76,
     "metadata": {},
     "output_type": "execute_result"
    }
   ],
   "source": [
    "# Challenge 4: Create a similar matrix with values (3,6,3,1,1,0) and sum with previous matrix\n",
    "matrix2=np.array([[3,6,3],[1,1,0]])\n",
    "matrixsum= matrix+matrix2\n",
    "matrixsum"
   ]
  },
  {
   "cell_type": "code",
   "execution_count": 82,
   "metadata": {},
   "outputs": [
    {
     "data": {
      "text/plain": [
       "array([[2, 5, 7],\n",
       "       [3, 5, 7],\n",
       "       [3, 6, 3],\n",
       "       [1, 1, 0]])"
      ]
     },
     "execution_count": 82,
     "metadata": {},
     "output_type": "execute_result"
    }
   ],
   "source": [
    "# Challenge 5: From previous step, instead of sum, concatenate bot matrices, so that you end up having a 4x3 matrix (2d array)\n",
    "matrixconc=np.concatenate((matrix,matrix2))\n",
    "matrixconc"
   ]
  },
  {
   "cell_type": "code",
   "execution_count": 80,
   "metadata": {},
   "outputs": [
    {
     "data": {
      "text/plain": [
       "array([5, 0])"
      ]
     },
     "execution_count": 80,
     "metadata": {},
     "output_type": "execute_result"
    }
   ],
   "source": [
    "# Challenge 6: Extract elments #2 and #3 of rows #1 and#4 of previous matrix\n",
    "matrixconc[[0,3],[1,2]]"
   ]
  },
  {
   "cell_type": "code",
   "execution_count": 81,
   "metadata": {},
   "outputs": [
    {
     "data": {
      "text/plain": [
       "array([2.25, 4.25, 4.25])"
      ]
     },
     "execution_count": 81,
     "metadata": {},
     "output_type": "execute_result"
    }
   ],
   "source": [
    "# Challenge 7: Extract average value by rows of our matrix, and also mean value by columns\n",
    "matrixconc.mean(axis=1)\n",
    "matrixconc.mean(axis=0)"
   ]
  },
  {
   "cell_type": "markdown",
   "metadata": {},
   "source": [
    "# Pandas series"
   ]
  },
  {
   "cell_type": "code",
   "execution_count": 52,
   "metadata": {},
   "outputs": [
    {
     "data": {
      "text/plain": [
       "bob       25\n",
       "bertha    32\n",
       "robert    53\n",
       "dad       48\n",
       "angela    23\n",
       "liz       43\n",
       "dtype: int64"
      ]
     },
     "execution_count": 52,
     "metadata": {},
     "output_type": "execute_result"
    }
   ],
   "source": [
    "# Challenge 1: From our list of tuples created in #1 (tuples section), create a pandas series that has as index the names, and as values the ages\n",
    "import pandas as pd\n",
    "myseries=pd.Series(data=[age for names,age in mytuple],\n",
    "                 index=[names for names,age in mytuple])\n",
    "myseries"
   ]
  },
  {
   "cell_type": "code",
   "execution_count": 54,
   "metadata": {},
   "outputs": [
    {
     "data": {
      "text/plain": [
       "bob       25.0\n",
       "bertha     NaN\n",
       "robert    53.0\n",
       "dad       48.0\n",
       "angela    23.0\n",
       "liz       43.0\n",
       "dtype: float64"
      ]
     },
     "execution_count": 54,
     "metadata": {},
     "output_type": "execute_result"
    }
   ],
   "source": [
    "# Challenge 2: Set as empty value the second element of the series \n",
    "myseries.iloc[1]=None\n",
    "#myseries['bertha']=None\n",
    "myseries"
   ]
  },
  {
   "cell_type": "code",
   "execution_count": 55,
   "metadata": {},
   "outputs": [],
   "source": [
    "# Challenge 3: Change bob's age to 52\n",
    "myseries['bob']=52"
   ]
  },
  {
   "cell_type": "code",
   "execution_count": 56,
   "metadata": {},
   "outputs": [
    {
     "data": {
      "text/plain": [
       "0    52.0\n",
       "1     NaN\n",
       "2    53.0\n",
       "3    48.0\n",
       "4    23.0\n",
       "5    43.0\n",
       "dtype: float64"
      ]
     },
     "execution_count": 56,
     "metadata": {},
     "output_type": "execute_result"
    }
   ],
   "source": [
    "# Challenge 4: Save the list of names acting as index, then reset index of the series\n",
    "mynames=list(myseries.index)\n",
    "myseries=myseries.reset_index(drop=True)\n",
    "myseries"
   ]
  },
  {
   "cell_type": "code",
   "execution_count": 59,
   "metadata": {},
   "outputs": [
    {
     "name": "stdout",
     "output_type": "stream",
     "text": [
      "4    23.0\n",
      "5    43.0\n",
      "3    48.0\n",
      "0    52.0\n",
      "2    53.0\n",
      "1     NaN\n",
      "dtype: float64\n",
      "53.0\n",
      "53.0\n"
     ]
    },
    {
     "data": {
      "text/plain": [
       "53.0"
      ]
     },
     "execution_count": 59,
     "metadata": {},
     "output_type": "execute_result"
    }
   ],
   "source": [
    "# Challenge 5: Sort the series, print it to spot the maximum, and print the maximum age first using .iloc, then using index\n",
    "\n",
    "myseries=myseries.sort_values()\n",
    "\n",
    "print(myseries)\n",
    "\n",
    "print(myseries.iloc[4])\n",
    "print(myseries.dropna().iloc[len(myseries.dropna().index)-1])\n",
    "myseries[2]"
   ]
  },
  {
   "cell_type": "code",
   "execution_count": 66,
   "metadata": {},
   "outputs": [
    {
     "data": {
      "text/plain": [
       "4    23.0\n",
       "5    43.0\n",
       "3    48.0\n",
       "0    52.0\n",
       "2    53.0\n",
       "dtype: float64"
      ]
     },
     "execution_count": 66,
     "metadata": {},
     "output_type": "execute_result"
    }
   ],
   "source": [
    "# Challenge 6: Build a mask and remove empty values\n",
    "mask=myseries.isna()==False\n",
    "myseries=myseries[mask]\n",
    "myseries"
   ]
  },
  {
   "cell_type": "code",
   "execution_count": 65,
   "metadata": {},
   "outputs": [
    {
     "data": {
      "text/plain": [
       "4    23.0\n",
       "5    43.0\n",
       "3    48.0\n",
       "0    52.0\n",
       "2    53.0\n",
       "1     NaN\n",
       "dtype: float64"
      ]
     },
     "execution_count": 65,
     "metadata": {},
     "output_type": "execute_result"
    }
   ],
   "source": [
    "myseries"
   ]
  },
  {
   "cell_type": "code",
   "execution_count": 79,
   "metadata": {},
   "outputs": [
    {
     "data": {
      "text/plain": [
       "4    True\n",
       "5    True\n",
       "3    True\n",
       "0    True\n",
       "2    True\n",
       "dtype: bool"
      ]
     },
     "execution_count": 79,
     "metadata": {},
     "output_type": "execute_result"
    }
   ],
   "source": [
    "myseries>20"
   ]
  },
  {
   "cell_type": "code",
   "execution_count": 84,
   "metadata": {},
   "outputs": [
    {
     "data": {
      "text/plain": [
       "4    23.0\n",
       "dtype: float64"
      ]
     },
     "execution_count": 84,
     "metadata": {},
     "output_type": "execute_result"
    }
   ],
   "source": [
    "# Challenge 7: Report names of people between 18 and 30 years\n",
    "mask=(myseries>=18) & (myseries<=30)\n",
    "myseries[mask]"
   ]
  },
  {
   "cell_type": "code",
   "execution_count": 92,
   "metadata": {},
   "outputs": [
    {
     "data": {
      "text/plain": [
       "4     529.0\n",
       "5    1849.0\n",
       "3    2304.0\n",
       "0    2704.0\n",
       "2    2809.0\n",
       "dtype: float64"
      ]
     },
     "execution_count": 92,
     "metadata": {},
     "output_type": "execute_result"
    }
   ],
   "source": [
    "# Challenge 8: Build a function that raises a number to a power of two, and apply it to our series using .map\n",
    "def power(number):\n",
    "    return number**2\n",
    "\n",
    "myseries.map(power)\n",
    "\n",
    "# alternative\n",
    "# def power(number,p):\n",
    "#     return number**p\n",
    "\n",
    "# myseries.apply(power,args=(2,))\n",
    "    "
   ]
  }
 ],
 "metadata": {
  "celltoolbar": "Slideshow",
  "kernelspec": {
   "display_name": "Python 3",
   "language": "python",
   "name": "python3"
  },
  "language_info": {
   "codemirror_mode": {
    "name": "ipython",
    "version": 3
   },
   "file_extension": ".py",
   "mimetype": "text/x-python",
   "name": "python",
   "nbconvert_exporter": "python",
   "pygments_lexer": "ipython3",
   "version": "3.7.4"
  },
  "name": "pandas.ipynb",
  "toc": {
   "base_numbering": 1,
   "nav_menu": {},
   "number_sections": false,
   "sideBar": true,
   "skip_h1_title": true,
   "title_cell": "Table of Contents",
   "title_sidebar": "Contents",
   "toc_cell": false,
   "toc_position": {},
   "toc_section_display": true,
   "toc_window_display": false
  }
 },
 "nbformat": 4,
 "nbformat_minor": 2
}
