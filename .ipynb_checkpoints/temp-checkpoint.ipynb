{
 "cells": [
  {
   "cell_type": "markdown",
   "metadata": {
    "ein.tags": "worksheet-0",
    "slideshow": {
     "slide_type": "-"
    }
   },
   "source": [
    "## Numpy: NUMerical PYthon \n",
    "\n",
    "This is Python's stack for scientific computing. The fundamental new data type is that of a **numpy array**, Python's matrix(tensor)-type object, which is used in the majority of Python's modules for Data Analysis, Statistics and Machine Learning  - for example in order to feed data into `sklearn` functions\n",
    "\n",
    "numpy arrays contain data all of the same type (*dtype*), numerical of many types or boolean\n",
    "\n",
    "The coordinates are known as axes"
   ]
  },
  {
   "cell_type": "code",
   "execution_count": 1,
   "metadata": {
    "autoscroll": false,
    "ein.hycell": false,
    "ein.tags": "worksheet-0",
    "slideshow": {
     "slide_type": "-"
    }
   },
   "outputs": [],
   "source": [
    "# import module \n",
    "import numpy as np"
   ]
  },
  {
   "cell_type": "markdown",
   "metadata": {
    "ein.tags": "worksheet-0",
    "slideshow": {
     "slide_type": "-"
    }
   },
   "source": [
    "To create an array we use the np.array() function"
   ]
  },
  {
   "cell_type": "code",
   "execution_count": 2,
   "metadata": {
    "autoscroll": false,
    "ein.hycell": false,
    "ein.tags": "worksheet-0",
    "slideshow": {
     "slide_type": "-"
    }
   },
   "outputs": [],
   "source": [
    "# creating an array\n",
    "a = np.array([[1, 2, 3, 4, 5, 6], \n",
    "              [42, 53, 43 ,62, 7, 4], \n",
    "              [-3, -1, -4 ,-8, -52, -4], \n",
    "              [10, 0, 4 , 1, 0, 1]])"
   ]
  },
  {
   "cell_type": "code",
   "execution_count": 3,
   "metadata": {},
   "outputs": [],
   "source": [
    "b = np.array([[[1,2,3],[4,5,6]],[[7,8,9],[10,11,12]]])"
   ]
  },
  {
   "cell_type": "code",
   "execution_count": null,
   "metadata": {},
   "outputs": [],
   "source": []
  },
  {
   "cell_type": "code",
   "execution_count": null,
   "metadata": {},
   "outputs": [],
   "source": []
  },
  {
   "cell_type": "markdown",
   "metadata": {
    "ein.tags": "worksheet-0",
    "slideshow": {
     "slide_type": "-"
    }
   },
   "source": [
    "We can access the elements in an array using multi-index notation, familiar in small variations in many computing environments and languages - with the usual Pythonic conventions, e.g., counting starts from 0, slicing a:b is inclusive:exclusive, negative indices, etc\n",
    "\n",
    "What do you think the following piece of code does? \n",
    "\n",
    "```python\n",
    "print(a[-2:,[2,4]])\n",
    "```"
   ]
  },
  {
   "cell_type": "markdown",
   "metadata": {
    "ein.tags": "worksheet-0",
    "slideshow": {
     "slide_type": "-"
    }
   },
   "source": [
    "### Array attributes\n",
    "\n",
    "The array data type has its own attributes. Some worth highlighting are:\n",
    "\n",
    "+ Shape\n",
    "```python\n",
    "arrayname.shape # returns the shape as tuple, e.g. (4,6)\n",
    "arrayname.reshape(arg) # returns a new array with the same data as those in arrayname but organized in different shape - read carefully defaults\n",
    "```\n",
    "+ Aggregations\n",
    "```python\n",
    "arrayname.function(arg) # e.g. function could be sum, max, min, etc. args can be used to specify operation over all elements, or for an axis, etc  - this is much more efficient than looping\n",
    "```\n",
    "+ Linear algebra\n",
    "```python\n",
    "arrayname.transpose(arg)  # transpose - even for multi-d arrays\n",
    "arrayname.diagonal(arg) # diagonal elements as array\n",
    "arrayname.dot(anotherarray) # dot product\n",
    "```\n"
   ]
  },
  {
   "cell_type": "markdown",
   "metadata": {
    "ein.tags": "worksheet-0",
    "slideshow": {
     "slide_type": "-"
    }
   },
   "source": [
    "## Array operations\n",
    "\n",
    "Remember that to concatenate two lists in Python, we could use the \"+\" operator. \n",
    "\n",
    "This is not the case in Numpy!\n",
    "\n",
    "Mathematical symbols take on mathematical meanings in Numpy. Thus, the \"+\" operator between two Numpy Arrays actually just attempts to add them together, elementwise."
   ]
  },
  {
   "cell_type": "code",
   "execution_count": 3,
   "metadata": {
    "autoscroll": false,
    "ein.hycell": false,
    "ein.tags": "worksheet-0",
    "slideshow": {
     "slide_type": "-"
    }
   },
   "outputs": [
    {
     "data": {
      "text/plain": [
       "array([5, 7, 9])"
      ]
     },
     "execution_count": 3,
     "metadata": {},
     "output_type": "execute_result"
    }
   ],
   "source": [
    "# Numpy array addition: \n",
    "\n",
    "a,b = np.array([1,2,3]), np.array([4,5,6])\n",
    "a + b"
   ]
  },
  {
   "cell_type": "code",
   "execution_count": 4,
   "metadata": {
    "autoscroll": false,
    "ein.hycell": false,
    "ein.tags": "worksheet-0",
    "slideshow": {
     "slide_type": "-"
    }
   },
   "outputs": [
    {
     "data": {
      "text/plain": [
       "array([1, 2, 3, 4, 5, 6])"
      ]
     },
     "execution_count": 4,
     "metadata": {},
     "output_type": "execute_result"
    }
   ],
   "source": [
    "# Numpy array concatenation: \n",
    "\n",
    "np.concatenate([a,b])"
   ]
  },
  {
   "cell_type": "markdown",
   "metadata": {
    "ein.tags": "worksheet-0",
    "slideshow": {
     "slide_type": "slide"
    }
   },
   "source": [
    "# Data analysis with Python\n",
    "\n",
    "PANDAS: Panel Data Structures \n",
    "\n",
    "This is the module in Python for doing rectangular-data management, analysis and plotting.\n",
    "\n",
    "The first set of tools are to read and write. "
   ]
  },
  {
   "cell_type": "markdown",
   "metadata": {
    "ein.tags": "worksheet-0",
    "slideshow": {
     "slide_type": "slide"
    }
   },
   "source": [
    "## Loading data into Python \n",
    "\n",
    "<img src=\"io_tools.png\"> \n",
    "\n",
    "See [IO DOC](https://pandas.pydata.org/pandas-docs/stable/io.html) in Python for more information\n",
    "\n",
    "Lets load our first dataset (and load all we need to get working!)"
   ]
  },
  {
   "cell_type": "code",
   "execution_count": 5,
   "metadata": {
    "autoscroll": false,
    "ein.hycell": false,
    "ein.tags": "worksheet-0",
    "slideshow": {
     "slide_type": "-"
    }
   },
   "outputs": [
    {
     "data": {
      "text/html": [
       "<div>\n",
       "<style scoped>\n",
       "    .dataframe tbody tr th:only-of-type {\n",
       "        vertical-align: middle;\n",
       "    }\n",
       "\n",
       "    .dataframe tbody tr th {\n",
       "        vertical-align: top;\n",
       "    }\n",
       "\n",
       "    .dataframe thead th {\n",
       "        text-align: right;\n",
       "    }\n",
       "</style>\n",
       "<table border=\"1\" class=\"dataframe\">\n",
       "  <thead>\n",
       "    <tr style=\"text-align: right;\">\n",
       "      <th></th>\n",
       "      <th>total_bill</th>\n",
       "      <th>tip</th>\n",
       "      <th>sex</th>\n",
       "      <th>smoker</th>\n",
       "      <th>day</th>\n",
       "      <th>time</th>\n",
       "      <th>size</th>\n",
       "    </tr>\n",
       "  </thead>\n",
       "  <tbody>\n",
       "    <tr>\n",
       "      <th>0</th>\n",
       "      <td>16.99</td>\n",
       "      <td>1.01</td>\n",
       "      <td>Female</td>\n",
       "      <td>No</td>\n",
       "      <td>Sun</td>\n",
       "      <td>Dinner</td>\n",
       "      <td>2</td>\n",
       "    </tr>\n",
       "    <tr>\n",
       "      <th>1</th>\n",
       "      <td>10.34</td>\n",
       "      <td>1.66</td>\n",
       "      <td>Male</td>\n",
       "      <td>No</td>\n",
       "      <td>Sun</td>\n",
       "      <td>Dinner</td>\n",
       "      <td>3</td>\n",
       "    </tr>\n",
       "    <tr>\n",
       "      <th>2</th>\n",
       "      <td>21.01</td>\n",
       "      <td>3.50</td>\n",
       "      <td>Male</td>\n",
       "      <td>No</td>\n",
       "      <td>Sun</td>\n",
       "      <td>Dinner</td>\n",
       "      <td>3</td>\n",
       "    </tr>\n",
       "    <tr>\n",
       "      <th>3</th>\n",
       "      <td>23.68</td>\n",
       "      <td>3.31</td>\n",
       "      <td>Male</td>\n",
       "      <td>No</td>\n",
       "      <td>Sun</td>\n",
       "      <td>Dinner</td>\n",
       "      <td>2</td>\n",
       "    </tr>\n",
       "    <tr>\n",
       "      <th>4</th>\n",
       "      <td>24.59</td>\n",
       "      <td>3.61</td>\n",
       "      <td>Female</td>\n",
       "      <td>No</td>\n",
       "      <td>Sun</td>\n",
       "      <td>Dinner</td>\n",
       "      <td>4</td>\n",
       "    </tr>\n",
       "  </tbody>\n",
       "</table>\n",
       "</div>"
      ],
      "text/plain": [
       "   total_bill   tip     sex smoker  day    time  size\n",
       "0       16.99  1.01  Female     No  Sun  Dinner     2\n",
       "1       10.34  1.66    Male     No  Sun  Dinner     3\n",
       "2       21.01  3.50    Male     No  Sun  Dinner     3\n",
       "3       23.68  3.31    Male     No  Sun  Dinner     2\n",
       "4       24.59  3.61  Female     No  Sun  Dinner     4"
      ]
     },
     "execution_count": 5,
     "metadata": {},
     "output_type": "execute_result"
    }
   ],
   "source": [
    "import pandas as pd\n",
    "\n",
    "# load a dataframe from disk\n",
    "tips = pd.read_csv(\"tips.csv\")\n",
    "tips.head(5)"
   ]
  },
  {
   "cell_type": "markdown",
   "metadata": {
    "ein.tags": "worksheet-0",
    "slideshow": {
     "slide_type": "slide"
    }
   },
   "source": [
    "## Series and DataFrame\n",
    "\n",
    "These are the two basic data formats in PANDAS, the equivalent of column and rectangular data structures, as in linear algebra (vector/matrix) but equipped with several attributes invaluable for data management and analysis\n",
    "\n",
    "In the *tips* example, the variable \"tips\" is a DataFrame, while any individual column would be a Series. \n",
    "\n"
   ]
  },
  {
   "cell_type": "markdown",
   "metadata": {
    "ein.tags": "worksheet-0",
    "slideshow": {
     "slide_type": "slide"
    }
   },
   "source": [
    "## Series \n",
    "\n",
    "This is a 1-d data structure with *values* accessed via their index. \n",
    "\n",
    "Unlike in raw Python or Numpy, however, Series indices can be made up of either: \n",
    "+ *numbers*: which could be ordered and contiguous like a Python list, but don't have to be! \n",
    "+ *strings*: essentially labels, like the keys in a dictionary\n",
    "\n",
    "Although typically a series is obtained by reading a dataset from an external file or when doing operations on dataframes, we can still define one manually by specifying the values and the indices. \n",
    "\n",
    "Let's do this an get an insight into how it works"
   ]
  },
  {
   "cell_type": "code",
   "execution_count": 6,
   "metadata": {
    "autoscroll": false,
    "ein.hycell": false,
    "ein.tags": "worksheet-0",
    "slideshow": {
     "slide_type": "-"
    }
   },
   "outputs": [],
   "source": [
    "# here no indices are specified, there are defaults\n",
    "my_series = pd.Series([1, 15, -5, None, 4, 123, 0, 78, 0, 5, -4])"
   ]
  },
  {
   "cell_type": "code",
   "execution_count": 7,
   "metadata": {
    "autoscroll": false,
    "ein.hycell": false,
    "ein.tags": "worksheet-0",
    "slideshow": {
     "slide_type": "-"
    }
   },
   "outputs": [
    {
     "data": {
      "text/plain": [
       "1.0"
      ]
     },
     "execution_count": 7,
     "metadata": {},
     "output_type": "execute_result"
    }
   ],
   "source": [
    "# Accessing a certain value via the index\n",
    "\n",
    "my_series[0]"
   ]
  },
  {
   "cell_type": "code",
   "execution_count": 8,
   "metadata": {
    "autoscroll": false,
    "ein.hycell": false,
    "ein.tags": "worksheet-0",
    "slideshow": {
     "slide_type": "-"
    }
   },
   "outputs": [
    {
     "data": {
      "text/plain": [
       "array([  1.,  15.,  -5.,  nan,   4., 123.,   0.,  78.,   0.,   5.,  -4.])"
      ]
     },
     "execution_count": 8,
     "metadata": {},
     "output_type": "execute_result"
    }
   ],
   "source": [
    "# Note that there are a bunch of attributes.\n",
    "# .values returns a numpy ndarray of the values! \n",
    "\n",
    "my_series.values"
   ]
  },
  {
   "cell_type": "code",
   "execution_count": 9,
   "metadata": {
    "autoscroll": false,
    "ein.hycell": false,
    "ein.tags": "worksheet-0",
    "slideshow": {
     "slide_type": "-"
    }
   },
   "outputs": [
    {
     "data": {
      "text/plain": [
       "RangeIndex(start=0, stop=11, step=1)"
      ]
     },
     "execution_count": 9,
     "metadata": {},
     "output_type": "execute_result"
    }
   ],
   "source": [
    "# Take a look at the index. What type is it? \n",
    "# You convert itto a numpy ndarray by adding \".values\" again!\n",
    "\n",
    "my_series.index"
   ]
  },
  {
   "cell_type": "code",
   "execution_count": 10,
   "metadata": {
    "autoscroll": false,
    "ein.hycell": false,
    "ein.tags": "worksheet-0",
    "slideshow": {
     "slide_type": "-"
    }
   },
   "outputs": [
    {
     "data": {
      "text/plain": [
       "om        1.0\n",
       "ir       15.0\n",
       "os       -5.0\n",
       "pap       NaN\n",
       "pas       4.0\n",
       "pil     123.0\n",
       "io        0.0\n",
       "po       78.0\n",
       "ulos      0.0\n",
       "is        5.0\n",
       "best     -4.0\n",
       "dtype: float64"
      ]
     },
     "execution_count": 10,
     "metadata": {},
     "output_type": "execute_result"
    }
   ],
   "source": [
    "# You can overwrite the index directly: \n",
    "\n",
    "my_series.index = [\"om\",\"ir\",\"os\",\"pap\",\"pas\",\"pil\",\"io\",\"po\",\"ulos\",\"is\",\"best\"]\n",
    "\n",
    "my_series"
   ]
  },
  {
   "cell_type": "markdown",
   "metadata": {
    "ein.tags": "worksheet-0",
    "slideshow": {
     "slide_type": "-"
    }
   },
   "source": [
    "## iloc\n",
    "\n",
    "Accessing values via the index can be very useful, but sometimes you want to access the values as though they were a Python list. In other words \"I want the first value!\", without having to know the name of the label. \n",
    "\n",
    "This can be achieved with .iloc: \n",
    "\n",
    "```python\n",
    "my_series.iloc[0]\n",
    "```"
   ]
  },
  {
   "cell_type": "code",
   "execution_count": 11,
   "metadata": {
    "autoscroll": false,
    "ein.hycell": false,
    "ein.tags": "worksheet-0",
    "slideshow": {
     "slide_type": "-"
    }
   },
   "outputs": [
    {
     "data": {
      "text/plain": [
       "(1.0, 1.0)"
      ]
     },
     "execution_count": 11,
     "metadata": {},
     "output_type": "execute_result"
    }
   ],
   "source": [
    "# Series that have string indices can also be accessed via a RangeIndex\n",
    "# (which is similar to the index of a regular Python list)\n",
    "\n",
    "my_series.iloc[0], my_series[\"om\"]"
   ]
  },
  {
   "cell_type": "code",
   "execution_count": 12,
   "metadata": {
    "autoscroll": false,
    "ein.hycell": false,
    "ein.tags": "worksheet-0",
    "slideshow": {
     "slide_type": "-"
    }
   },
   "outputs": [
    {
     "data": {
      "text/plain": [
       "(1.0, -5.0)"
      ]
     },
     "execution_count": 12,
     "metadata": {},
     "output_type": "execute_result"
    }
   ],
   "source": [
    "# Note that indices can get moved around, by sorting for example!\n",
    "# iloc gives you the element you would get if the Series\n",
    "# was a list and you were giving it the index:\n",
    "\n",
    "# This just resets the index to be as we found it originally\n",
    "my_series = my_series.reset_index(drop=True)\n",
    "\n",
    "x = my_series.sort_values()\n",
    "\n",
    "x[0], x.iloc[0]"
   ]
  },
  {
   "cell_type": "markdown",
   "metadata": {
    "ein.tags": "worksheet-0",
    "slideshow": {
     "slide_type": "slide"
    }
   },
   "source": [
    "## Operations with series\n",
    "\n",
    "Because Series are Numpy arrays behind the scenes, we can compute element-wise functions on one series or several series at the same time. The result is another series with data type depending on the type of operations performed. \n",
    "\n",
    "For example, what do you think the following piece of code will do: "
   ]
  },
  {
   "cell_type": "code",
   "execution_count": 13,
   "metadata": {
    "autoscroll": false,
    "ein.hycell": false,
    "ein.tags": "worksheet-0",
    "slideshow": {
     "slide_type": "slide"
    }
   },
   "outputs": [],
   "source": [
    "Series1 = pd.Series([1,3,5,7])\n",
    "Series2 = pd.Series([0,10,-1,6])\n",
    "\n",
    "Series3 = 2*Series1 + abs(Series2)\n",
    "\n",
    "Series4 = Series1 > Series2 \n",
    "\n",
    "# Take a look at the different Series objects!"
   ]
  },
  {
   "cell_type": "markdown",
   "metadata": {
    "ein.tags": "worksheet-0",
    "slideshow": {
     "slide_type": "slide"
    }
   },
   "source": [
    "## Data alignment \n",
    "\n",
    "What goes on in the previous examples is more subtle than it looks. How does Python know which elements from each series to join in the required operation together?  \n",
    "\n",
    "What happens is that the indices happened to be the same. So when we ask something like \n",
    "\n",
    "```python\n",
    "Series3 = Series1 + Series2 \n",
    "```\n",
    "\n",
    "Python looks for entries in each series with the same index and then does an elementwise summation that it stores in a like-wise index in Series 3. \n",
    "\n",
    "Consider instead the following example "
   ]
  },
  {
   "cell_type": "code",
   "execution_count": 14,
   "metadata": {
    "autoscroll": false,
    "ein.hycell": false,
    "ein.tags": "worksheet-0",
    "slideshow": {
     "slide_type": "slide"
    }
   },
   "outputs": [],
   "source": [
    "Series1 = pd.Series([1,10],index=[\"om\",\"iros\"])\n",
    "Series2 = pd.Series([4,-1],index=[\"pap\",\"as\"])\n",
    "Series3 = Series1 + Series2"
   ]
  },
  {
   "cell_type": "markdown",
   "metadata": {
    "ein.tags": "worksheet-0",
    "slideshow": {
     "slide_type": "slide"
    }
   },
   "source": [
    "This aspect makes it very easy to work with series that we have sorted or manipulated otherwise; there is always the address to access a value. This helps prevent accidentally combining values we didn't mean to combine!"
   ]
  },
  {
   "cell_type": "markdown",
   "metadata": {
    "ein.tags": "worksheet-0",
    "slideshow": {
     "slide_type": "slide"
    }
   },
   "source": [
    "## Basic information retrieval with series\n",
    "\n",
    "+ Accessing single elements\n",
    "+ Slicing; accessing a set of elements\n",
    "+ Filtering; selection by  boolean index\n",
    "\n",
    "Recalling that operations on Series returns Series, the big news here is that we can access values in a Series by specifying \n",
    "\n",
    "+ single index\n",
    "+ a slice (a:b for integers a,b) \n",
    "+ list (or Numpy Array or Series) of index labels\n",
    "+ a boolean Series (also called a _boolean mask_) \n",
    "\n",
    "Interesting: the result of any such retrieval (except for a single index) is a series itself!"
   ]
  },
  {
   "cell_type": "code",
   "execution_count": 15,
   "metadata": {
    "autoscroll": false,
    "ein.hycell": false,
    "ein.tags": "worksheet-0",
    "slideshow": {
     "slide_type": "-"
    }
   },
   "outputs": [],
   "source": [
    "# accesing by list of index labels\n",
    "\n",
    "my_series.index = [\"om\",\"ir\",\"os\",\"pap\",\"pas\",\"pil\",\"io\",\"po\",\"ulos\",\"is\",\"best\"]\n",
    "x = my_series[[\"om\",\"pap\"]]"
   ]
  },
  {
   "cell_type": "code",
   "execution_count": 16,
   "metadata": {
    "autoscroll": false,
    "ein.hycell": false,
    "ein.tags": "worksheet-0",
    "slideshow": {
     "slide_type": "-"
    }
   },
   "outputs": [
    {
     "data": {
      "text/plain": [
       "om      False\n",
       "ir      False\n",
       "os      False\n",
       "pap     False\n",
       "pas     False\n",
       "pil     False\n",
       "io       True\n",
       "po      False\n",
       "ulos     True\n",
       "is      False\n",
       "best    False\n",
       "dtype: bool"
      ]
     },
     "execution_count": 16,
     "metadata": {},
     "output_type": "execute_result"
    }
   ],
   "source": [
    "# getting a boolean-valued series by checking a condition\n",
    "\n",
    "choose = my_series == 0.0\n",
    "choose"
   ]
  },
  {
   "cell_type": "code",
   "execution_count": 17,
   "metadata": {
    "autoscroll": false,
    "ein.hycell": false,
    "ein.tags": "worksheet-0",
    "slideshow": {
     "slide_type": "-"
    }
   },
   "outputs": [],
   "source": [
    "# Notice the index of x is a SUBSET of the index of \"my_series\"\n",
    "# This can be useful when needing to relate values back to the original \"my_series\"!\n",
    "\n",
    "x = my_series[choose]"
   ]
  },
  {
   "cell_type": "markdown",
   "metadata": {
    "ein.tags": "worksheet-0",
    "slideshow": {
     "slide_type": "-"
    }
   },
   "source": [
    "## Filtering via boolean masks\n",
    "\n",
    "We often use boolean masks to filter data in Pandas. Series that are of type \"bool\" thus take on special significance: we use them a lot!\n",
    "\n",
    "We also get special boolean algebra operators to use in Numpy/Pandas, distinct from the and/or/not you will use in regular Python: \n",
    "\n",
    "\n",
    "```python\n",
    "& # AND\n",
    "| # OR\n",
    "~ # NOT\n",
    "```"
   ]
  },
  {
   "cell_type": "code",
   "execution_count": 21,
   "metadata": {
    "autoscroll": false,
    "ein.hycell": false,
    "ein.tags": "worksheet-0",
    "slideshow": {
     "slide_type": "-"
    }
   },
   "outputs": [
    {
     "data": {
      "text/plain": [
       "io      0.0\n",
       "ulos    0.0\n",
       "dtype: float64"
      ]
     },
     "execution_count": 21,
     "metadata": {},
     "output_type": "execute_result"
    }
   ],
   "source": [
    "# Challenge: \n",
    "\n",
    "# Filter \"my_series\" to be all the elements that are NOT\n",
    "# equal to 0, using the \"choose\" boolean mask below: \n",
    "\n",
    "choose = my_series == 0.0\n",
    "\n",
    "my_series[choose]"
   ]
  },
  {
   "cell_type": "markdown",
   "metadata": {
    "ein.tags": "worksheet-0",
    "slideshow": {
     "slide_type": "slide"
    }
   },
   "source": [
    "## Coding and managing missing values\n",
    "\n",
    "A series object in PANDAS can deal with maybe the most important type of data of all for data analysis: missing data! \n",
    "\n",
    "We already see very naturally how data management leads to missing data rather immediately. Recall the earlier attempt to sum up to Series\n",
    "\n",
    "```python\n",
    "Series3 = Series1+Series2\n",
    "print(Series3)\n",
    "as     NaN\n",
    "iros   NaN\n",
    "om     NaN\n",
    "pap    NaN\n",
    "dtype: float64\n",
    "```\n",
    "What happened there is that in the operation labels could not be matched, so pandas tried to sum a numeric value with a missing value, the result of which is a missing value!"
   ]
  },
  {
   "cell_type": "markdown",
   "metadata": {
    "ein.tags": "worksheet-0",
    "slideshow": {
     "slide_type": "slide"
    }
   },
   "source": [
    "The way to manually specify in PANDAS that a value is missing is to use use None, as below: \n",
    "\n",
    "```python\n",
    "temp = pd.Series([1,None,2])\n",
    "print(temp)\n",
    "0    1.0\n",
    "1    NaN\n",
    "2    2.0\n",
    "dtype: float64\n",
    "```\n",
    "If the Series is numeric, Pandas will caste it to numpy.float64 type and convert the None values to Numpy NaN values (Not a Number). If the Series is of type \"object\" (arbitrary Python objects), it will keep the values as None.\n",
    "\n",
    "We can create *boolean masks* on the basis of such values. The way to identify NaN or None values in a Series is to use either of the equivalent two attributes\n",
    "\n",
    "```python\n",
    "seriesname.isna()\n",
    "seriesname.isnull()\n",
    "```\n",
    "\n",
    "Either returns a boolean-valued series that we can use then for selecting and operating on NaN or the rest of the values. The opposite also exists: \n",
    "\n",
    "```python\n",
    "seriesname.notna()\n",
    "seriesname.notnull()\n",
    "```\n"
   ]
  },
  {
   "cell_type": "code",
   "execution_count": 23,
   "metadata": {
    "autoscroll": false,
    "ein.hycell": false,
    "ein.tags": "worksheet-0",
    "slideshow": {
     "slide_type": "-"
    }
   },
   "outputs": [
    {
     "data": {
      "text/plain": [
       "0    foo\n",
       "1    bar\n",
       "3    baz\n",
       "4    qux\n",
       "dtype: object"
      ]
     },
     "execution_count": 23,
     "metadata": {},
     "output_type": "execute_result"
    }
   ],
   "source": [
    "# Challenge: \n",
    "# Get a list of names, without the Null values!\n",
    "\n",
    "# The Pandas way: \n",
    "# 1. Create a boolean mask by using the .notna() method.\n",
    "# 2. Use the mask to subset the Series.\n",
    "\n",
    "names = pd.Series(['foo','bar',None,'baz','qux',None])\n",
    "\n",
    "names[names.notna()]"
   ]
  },
  {
   "cell_type": "markdown",
   "metadata": {
    "ein.tags": "worksheet-0",
    "slideshow": {
     "slide_type": "slide"
    }
   },
   "source": [
    "## Highlighting some important series attributes & methods\n",
    "\n",
    "As usual one should explore the attributes of any python object one ends up working with. We have already accessed the seriesname.index and seriesname.value\n",
    "\n",
    "Some other (among many!) that are worth highlighting: \n",
    "\n",
    "+ .map\n",
    "+ .corr \n",
    "+ .describe\n",
    "+ .hist\n",
    "+ .plot\n",
    "+ .size\n",
    "+ .value_counts\n",
    "+ .sort_values"
   ]
  },
  {
   "cell_type": "code",
   "execution_count": 27,
   "metadata": {
    "autoscroll": false,
    "ein.hycell": false,
    "ein.tags": "worksheet-0",
    "slideshow": {
     "slide_type": "-"
    }
   },
   "outputs": [
    {
     "data": {
      "text/plain": [
       "0     foo\n",
       "1     bar\n",
       "2    None\n",
       "3     foo\n",
       "4    None\n",
       "5     bar\n",
       "6     bar\n",
       "7     foo\n",
       "8    None\n",
       "dtype: object"
      ]
     },
     "execution_count": 27,
     "metadata": {},
     "output_type": "execute_result"
    }
   ],
   "source": [
    "# Challenge: \n",
    "\n",
    "# Use the \"map\" method to create a new series with each element\n",
    "# lowercased. Create your own function to do the operation. \n",
    "# Missing values should stay missing!\n",
    "\n",
    "\n",
    "def lower(s):\n",
    "    try:\n",
    "        return s.lower()\n",
    "    except AttributeError:\n",
    "        return s\n",
    "\n",
    "\n",
    "names = pd.Series(['Foo', 'BAR', None, 'foo', None, 'bar', 'bAR', 'foo', None])\n",
    "\n",
    "names.map(lower)"
   ]
  },
  {
   "cell_type": "code",
   "execution_count": 28,
   "metadata": {
    "autoscroll": false,
    "ein.hycell": false,
    "ein.tags": "worksheet-0",
    "slideshow": {
     "slide_type": "-"
    }
   },
   "outputs": [
    {
     "data": {
      "text/plain": [
       "foo    3\n",
       "bar    3\n",
       "dtype: int64"
      ]
     },
     "execution_count": 28,
     "metadata": {},
     "output_type": "execute_result"
    }
   ],
   "source": [
    "# Challenge: \n",
    "\n",
    "# Using the series from above, now lowercased, count the occurences of each name\n",
    "# Hint: It's simple, just use .value_counts()!\n",
    "\n",
    "names.map(lower).value_counts()"
   ]
  },
  {
   "cell_type": "markdown",
   "metadata": {
    "ein.tags": "worksheet-0",
    "slideshow": {
     "slide_type": "slide"
    }
   },
   "source": [
    "## Dataframes\n",
    "\n",
    "This is PANDAS model for rectangular data, operationally is like a dictionary of series; each column of the dataframe is a series object, and clearly comes with all the attributes/methods of a series\n",
    "\n",
    "An implication of the above is that within each column the data type is common; across columns of course this can change\n",
    "\n",
    "Let's see an example right away "
   ]
  },
  {
   "cell_type": "code",
   "execution_count": 29,
   "metadata": {
    "autoscroll": false,
    "ein.hycell": false,
    "ein.tags": "worksheet-0",
    "slideshow": {
     "slide_type": "-"
    }
   },
   "outputs": [
    {
     "data": {
      "text/html": [
       "<div>\n",
       "<style scoped>\n",
       "    .dataframe tbody tr th:only-of-type {\n",
       "        vertical-align: middle;\n",
       "    }\n",
       "\n",
       "    .dataframe tbody tr th {\n",
       "        vertical-align: top;\n",
       "    }\n",
       "\n",
       "    .dataframe thead th {\n",
       "        text-align: right;\n",
       "    }\n",
       "</style>\n",
       "<table border=\"1\" class=\"dataframe\">\n",
       "  <thead>\n",
       "    <tr style=\"text-align: right;\">\n",
       "      <th></th>\n",
       "      <th>total_bill</th>\n",
       "      <th>tip</th>\n",
       "      <th>sex</th>\n",
       "      <th>smoker</th>\n",
       "      <th>day</th>\n",
       "      <th>time</th>\n",
       "      <th>size</th>\n",
       "    </tr>\n",
       "  </thead>\n",
       "  <tbody>\n",
       "    <tr>\n",
       "      <th>0</th>\n",
       "      <td>16.99</td>\n",
       "      <td>1.01</td>\n",
       "      <td>Female</td>\n",
       "      <td>No</td>\n",
       "      <td>Sun</td>\n",
       "      <td>Dinner</td>\n",
       "      <td>2</td>\n",
       "    </tr>\n",
       "    <tr>\n",
       "      <th>1</th>\n",
       "      <td>10.34</td>\n",
       "      <td>1.66</td>\n",
       "      <td>Male</td>\n",
       "      <td>No</td>\n",
       "      <td>Sun</td>\n",
       "      <td>Dinner</td>\n",
       "      <td>3</td>\n",
       "    </tr>\n",
       "    <tr>\n",
       "      <th>2</th>\n",
       "      <td>21.01</td>\n",
       "      <td>3.50</td>\n",
       "      <td>Male</td>\n",
       "      <td>No</td>\n",
       "      <td>Sun</td>\n",
       "      <td>Dinner</td>\n",
       "      <td>3</td>\n",
       "    </tr>\n",
       "    <tr>\n",
       "      <th>3</th>\n",
       "      <td>23.68</td>\n",
       "      <td>3.31</td>\n",
       "      <td>Male</td>\n",
       "      <td>No</td>\n",
       "      <td>Sun</td>\n",
       "      <td>Dinner</td>\n",
       "      <td>2</td>\n",
       "    </tr>\n",
       "    <tr>\n",
       "      <th>4</th>\n",
       "      <td>24.59</td>\n",
       "      <td>3.61</td>\n",
       "      <td>Female</td>\n",
       "      <td>No</td>\n",
       "      <td>Sun</td>\n",
       "      <td>Dinner</td>\n",
       "      <td>4</td>\n",
       "    </tr>\n",
       "    <tr>\n",
       "      <th>5</th>\n",
       "      <td>25.29</td>\n",
       "      <td>4.71</td>\n",
       "      <td>Male</td>\n",
       "      <td>No</td>\n",
       "      <td>Sun</td>\n",
       "      <td>Dinner</td>\n",
       "      <td>4</td>\n",
       "    </tr>\n",
       "    <tr>\n",
       "      <th>6</th>\n",
       "      <td>8.77</td>\n",
       "      <td>2.00</td>\n",
       "      <td>Male</td>\n",
       "      <td>No</td>\n",
       "      <td>Sun</td>\n",
       "      <td>Dinner</td>\n",
       "      <td>2</td>\n",
       "    </tr>\n",
       "    <tr>\n",
       "      <th>7</th>\n",
       "      <td>26.88</td>\n",
       "      <td>3.12</td>\n",
       "      <td>Male</td>\n",
       "      <td>No</td>\n",
       "      <td>Sun</td>\n",
       "      <td>Dinner</td>\n",
       "      <td>4</td>\n",
       "    </tr>\n",
       "    <tr>\n",
       "      <th>8</th>\n",
       "      <td>15.04</td>\n",
       "      <td>1.96</td>\n",
       "      <td>Male</td>\n",
       "      <td>No</td>\n",
       "      <td>Sun</td>\n",
       "      <td>Dinner</td>\n",
       "      <td>2</td>\n",
       "    </tr>\n",
       "    <tr>\n",
       "      <th>9</th>\n",
       "      <td>14.78</td>\n",
       "      <td>3.23</td>\n",
       "      <td>Male</td>\n",
       "      <td>No</td>\n",
       "      <td>Sun</td>\n",
       "      <td>Dinner</td>\n",
       "      <td>2</td>\n",
       "    </tr>\n",
       "  </tbody>\n",
       "</table>\n",
       "</div>"
      ],
      "text/plain": [
       "   total_bill   tip     sex smoker  day    time  size\n",
       "0       16.99  1.01  Female     No  Sun  Dinner     2\n",
       "1       10.34  1.66    Male     No  Sun  Dinner     3\n",
       "2       21.01  3.50    Male     No  Sun  Dinner     3\n",
       "3       23.68  3.31    Male     No  Sun  Dinner     2\n",
       "4       24.59  3.61  Female     No  Sun  Dinner     4\n",
       "5       25.29  4.71    Male     No  Sun  Dinner     4\n",
       "6        8.77  2.00    Male     No  Sun  Dinner     2\n",
       "7       26.88  3.12    Male     No  Sun  Dinner     4\n",
       "8       15.04  1.96    Male     No  Sun  Dinner     2\n",
       "9       14.78  3.23    Male     No  Sun  Dinner     2"
      ]
     },
     "execution_count": 29,
     "metadata": {},
     "output_type": "execute_result"
    }
   ],
   "source": [
    "tips = pd.read_csv(\"tips.csv\")\n",
    "tips.head(10) # the first method of our dataframe object! "
   ]
  },
  {
   "cell_type": "code",
   "execution_count": 30,
   "metadata": {
    "autoscroll": false,
    "ein.hycell": false,
    "ein.tags": "worksheet-0",
    "slideshow": {
     "slide_type": "-"
    }
   },
   "outputs": [
    {
     "data": {
      "text/plain": [
       "Index(['total_bill', 'tip', 'sex', 'smoker', 'day', 'time', 'size'], dtype='object')"
      ]
     },
     "execution_count": 30,
     "metadata": {},
     "output_type": "execute_result"
    }
   ],
   "source": [
    "# the other important attribute: name of rows and columns\n",
    "tips.index\n",
    "tips.columns"
   ]
  },
  {
   "cell_type": "markdown",
   "metadata": {
    "ein.tags": "worksheet-0",
    "slideshow": {
     "slide_type": "slide"
    }
   },
   "source": [
    "## Accessing the series embedded within\n",
    "\n",
    "There are two way to access the information in the columns: \n",
    "+ One is to give the name of the column as `dataframename.columnname` \n",
    "   + This is not feasible when the name of the column coincides with an attribute or method of the dataframe, e.g. when a column is called \"size\"  \n",
    "+ Another is as dataframename[\"columnname\"]\n",
    "\n",
    "Any of these calls returns a series object with the same index as the dataframe and the values of the column\n",
    "\n",
    "We can then work with the extracted series as usual. Hence you can understand what happens below \n",
    "\n",
    "```python\n",
    "tips[\"size\"].corr(tips.tip)\n",
    "```"
   ]
  },
  {
   "cell_type": "markdown",
   "metadata": {
    "ein.tags": "worksheet-0",
    "slideshow": {
     "slide_type": "slide"
    }
   },
   "source": [
    "In a similar fashion, we can access various columns at a time; we need to provide a list of column names in this case; the result is now a dataframe with the same index as the original and columns the chosen subset. We can then work with it using any of the dataframe attributes and methods we know. \n",
    "\n",
    "You can now guess what will happen below: \n",
    "\n",
    "```python\n",
    "tips[[\"tip\",\"size\",\"sex\"]].tip.corr(tips[\"size\"])\n",
    "\n",
    "```\n",
    "(not saying that this is a sensible code! just trying to make sure we understand the structure)"
   ]
  },
  {
   "cell_type": "markdown",
   "metadata": {
    "ein.tags": "worksheet-0",
    "slideshow": {
     "slide_type": "slide"
    }
   },
   "source": [
    "## Accessing subsets of rows\n",
    "\n",
    "Now we are interested in a subset of rows. We can access rows by:\n",
    "+ list of index labels \n",
    "  ```python\n",
    "  dataframename.loc[ [index1, index2, ...] ]\n",
    "  ```\n",
    "+ list of integer index location (i-loc) \n",
    "  ```python\n",
    "  dataframename.iloc[ [integer1, integer2, ...] ]\n",
    "  ```\n",
    "The output is:\n",
    "+ a series, if a single column or row is chosen\n",
    "+ a dataframe, with index label the chosen index labels and the same column names as the dataframe\n",
    "\n",
    "In the case of .iloc we can also use slices, as for example\n",
    "```python\n",
    "dataframename.iloc[3:5]\n",
    "dataframename.iloc[3:5,:]\n",
    "dataframename.iloc[3:5,-2:]\n",
    "```\n",
    "\n",
    "Note: loc/iloc are also used to access a subset of rows AND columns at the same time. See examples below!"
   ]
  },
  {
   "cell_type": "code",
   "execution_count": 31,
   "metadata": {
    "autoscroll": false,
    "ein.hycell": false,
    "ein.tags": "worksheet-0",
    "slideshow": {
     "slide_type": "-"
    }
   },
   "outputs": [
    {
     "data": {
      "text/html": [
       "<div>\n",
       "<style scoped>\n",
       "    .dataframe tbody tr th:only-of-type {\n",
       "        vertical-align: middle;\n",
       "    }\n",
       "\n",
       "    .dataframe tbody tr th {\n",
       "        vertical-align: top;\n",
       "    }\n",
       "\n",
       "    .dataframe thead th {\n",
       "        text-align: right;\n",
       "    }\n",
       "</style>\n",
       "<table border=\"1\" class=\"dataframe\">\n",
       "  <thead>\n",
       "    <tr style=\"text-align: right;\">\n",
       "      <th></th>\n",
       "      <th>sex</th>\n",
       "      <th>smoker</th>\n",
       "    </tr>\n",
       "  </thead>\n",
       "  <tbody>\n",
       "    <tr>\n",
       "      <th>1</th>\n",
       "      <td>Male</td>\n",
       "      <td>No</td>\n",
       "    </tr>\n",
       "    <tr>\n",
       "      <th>3</th>\n",
       "      <td>Male</td>\n",
       "      <td>No</td>\n",
       "    </tr>\n",
       "  </tbody>\n",
       "</table>\n",
       "</div>"
      ],
      "text/plain": [
       "    sex smoker\n",
       "1  Male     No\n",
       "3  Male     No"
      ]
     },
     "execution_count": 31,
     "metadata": {},
     "output_type": "execute_result"
    }
   ],
   "source": [
    "# Accessing rows AND columns!\n",
    "# Example of 2-dimension loc\n",
    "\n",
    "tips.loc[[1,3], ['sex', 'smoker']]"
   ]
  },
  {
   "cell_type": "code",
   "execution_count": 32,
   "metadata": {
    "autoscroll": false,
    "ein.hycell": false,
    "ein.tags": "worksheet-0",
    "slideshow": {
     "slide_type": "-"
    }
   },
   "outputs": [
    {
     "data": {
      "text/html": [
       "<div>\n",
       "<style scoped>\n",
       "    .dataframe tbody tr th:only-of-type {\n",
       "        vertical-align: middle;\n",
       "    }\n",
       "\n",
       "    .dataframe tbody tr th {\n",
       "        vertical-align: top;\n",
       "    }\n",
       "\n",
       "    .dataframe thead th {\n",
       "        text-align: right;\n",
       "    }\n",
       "</style>\n",
       "<table border=\"1\" class=\"dataframe\">\n",
       "  <thead>\n",
       "    <tr style=\"text-align: right;\">\n",
       "      <th></th>\n",
       "      <th>sex</th>\n",
       "      <th>smoker</th>\n",
       "      <th>day</th>\n",
       "      <th>time</th>\n",
       "      <th>size</th>\n",
       "    </tr>\n",
       "  </thead>\n",
       "  <tbody>\n",
       "    <tr>\n",
       "      <th>1</th>\n",
       "      <td>Male</td>\n",
       "      <td>No</td>\n",
       "      <td>Sun</td>\n",
       "      <td>Dinner</td>\n",
       "      <td>3</td>\n",
       "    </tr>\n",
       "    <tr>\n",
       "      <th>3</th>\n",
       "      <td>Male</td>\n",
       "      <td>No</td>\n",
       "      <td>Sun</td>\n",
       "      <td>Dinner</td>\n",
       "      <td>2</td>\n",
       "    </tr>\n",
       "  </tbody>\n",
       "</table>\n",
       "</div>"
      ],
      "text/plain": [
       "    sex smoker  day    time  size\n",
       "1  Male     No  Sun  Dinner     3\n",
       "3  Male     No  Sun  Dinner     2"
      ]
     },
     "execution_count": 32,
     "metadata": {},
     "output_type": "execute_result"
    }
   ],
   "source": [
    "# Accessing rows AND columns!\n",
    "# Example of 2-dimensional iloc\n",
    "\n",
    "tips.iloc[[1,3], 2:]"
   ]
  },
  {
   "cell_type": "code",
   "execution_count": 35,
   "metadata": {
    "autoscroll": false,
    "ein.hycell": false,
    "ein.tags": "worksheet-0",
    "slideshow": {
     "slide_type": "-"
    }
   },
   "outputs": [
    {
     "data": {
      "text/html": [
       "<div>\n",
       "<style scoped>\n",
       "    .dataframe tbody tr th:only-of-type {\n",
       "        vertical-align: middle;\n",
       "    }\n",
       "\n",
       "    .dataframe tbody tr th {\n",
       "        vertical-align: top;\n",
       "    }\n",
       "\n",
       "    .dataframe thead th {\n",
       "        text-align: right;\n",
       "    }\n",
       "</style>\n",
       "<table border=\"1\" class=\"dataframe\">\n",
       "  <thead>\n",
       "    <tr style=\"text-align: right;\">\n",
       "      <th></th>\n",
       "      <th>tip</th>\n",
       "      <th>sex</th>\n",
       "      <th>day</th>\n",
       "    </tr>\n",
       "  </thead>\n",
       "  <tbody>\n",
       "    <tr>\n",
       "      <th>20</th>\n",
       "      <td>4.08</td>\n",
       "      <td>Male</td>\n",
       "      <td>Sat</td>\n",
       "    </tr>\n",
       "    <tr>\n",
       "      <th>21</th>\n",
       "      <td>2.75</td>\n",
       "      <td>Female</td>\n",
       "      <td>Sat</td>\n",
       "    </tr>\n",
       "    <tr>\n",
       "      <th>22</th>\n",
       "      <td>2.23</td>\n",
       "      <td>Female</td>\n",
       "      <td>Sat</td>\n",
       "    </tr>\n",
       "    <tr>\n",
       "      <th>23</th>\n",
       "      <td>7.58</td>\n",
       "      <td>Male</td>\n",
       "      <td>Sat</td>\n",
       "    </tr>\n",
       "    <tr>\n",
       "      <th>24</th>\n",
       "      <td>3.18</td>\n",
       "      <td>Male</td>\n",
       "      <td>Sat</td>\n",
       "    </tr>\n",
       "    <tr>\n",
       "      <th>25</th>\n",
       "      <td>2.34</td>\n",
       "      <td>Male</td>\n",
       "      <td>Sat</td>\n",
       "    </tr>\n",
       "    <tr>\n",
       "      <th>26</th>\n",
       "      <td>2.00</td>\n",
       "      <td>Male</td>\n",
       "      <td>Sat</td>\n",
       "    </tr>\n",
       "    <tr>\n",
       "      <th>27</th>\n",
       "      <td>2.00</td>\n",
       "      <td>Male</td>\n",
       "      <td>Sat</td>\n",
       "    </tr>\n",
       "    <tr>\n",
       "      <th>28</th>\n",
       "      <td>4.30</td>\n",
       "      <td>Male</td>\n",
       "      <td>Sat</td>\n",
       "    </tr>\n",
       "    <tr>\n",
       "      <th>29</th>\n",
       "      <td>3.00</td>\n",
       "      <td>Female</td>\n",
       "      <td>Sat</td>\n",
       "    </tr>\n",
       "    <tr>\n",
       "      <th>30</th>\n",
       "      <td>1.45</td>\n",
       "      <td>Male</td>\n",
       "      <td>Sat</td>\n",
       "    </tr>\n",
       "    <tr>\n",
       "      <th>31</th>\n",
       "      <td>2.50</td>\n",
       "      <td>Male</td>\n",
       "      <td>Sat</td>\n",
       "    </tr>\n",
       "    <tr>\n",
       "      <th>32</th>\n",
       "      <td>3.00</td>\n",
       "      <td>Female</td>\n",
       "      <td>Sat</td>\n",
       "    </tr>\n",
       "    <tr>\n",
       "      <th>33</th>\n",
       "      <td>2.45</td>\n",
       "      <td>Female</td>\n",
       "      <td>Sat</td>\n",
       "    </tr>\n",
       "    <tr>\n",
       "      <th>34</th>\n",
       "      <td>3.27</td>\n",
       "      <td>Male</td>\n",
       "      <td>Sat</td>\n",
       "    </tr>\n",
       "    <tr>\n",
       "      <th>35</th>\n",
       "      <td>3.60</td>\n",
       "      <td>Male</td>\n",
       "      <td>Sat</td>\n",
       "    </tr>\n",
       "    <tr>\n",
       "      <th>36</th>\n",
       "      <td>2.00</td>\n",
       "      <td>Male</td>\n",
       "      <td>Sat</td>\n",
       "    </tr>\n",
       "    <tr>\n",
       "      <th>37</th>\n",
       "      <td>3.07</td>\n",
       "      <td>Female</td>\n",
       "      <td>Sat</td>\n",
       "    </tr>\n",
       "    <tr>\n",
       "      <th>38</th>\n",
       "      <td>2.31</td>\n",
       "      <td>Male</td>\n",
       "      <td>Sat</td>\n",
       "    </tr>\n",
       "    <tr>\n",
       "      <th>39</th>\n",
       "      <td>5.00</td>\n",
       "      <td>Male</td>\n",
       "      <td>Sat</td>\n",
       "    </tr>\n",
       "    <tr>\n",
       "      <th>40</th>\n",
       "      <td>2.24</td>\n",
       "      <td>Male</td>\n",
       "      <td>Sat</td>\n",
       "    </tr>\n",
       "    <tr>\n",
       "      <th>41</th>\n",
       "      <td>2.54</td>\n",
       "      <td>Male</td>\n",
       "      <td>Sun</td>\n",
       "    </tr>\n",
       "    <tr>\n",
       "      <th>42</th>\n",
       "      <td>3.06</td>\n",
       "      <td>Male</td>\n",
       "      <td>Sun</td>\n",
       "    </tr>\n",
       "    <tr>\n",
       "      <th>43</th>\n",
       "      <td>1.32</td>\n",
       "      <td>Male</td>\n",
       "      <td>Sun</td>\n",
       "    </tr>\n",
       "    <tr>\n",
       "      <th>44</th>\n",
       "      <td>5.60</td>\n",
       "      <td>Male</td>\n",
       "      <td>Sun</td>\n",
       "    </tr>\n",
       "  </tbody>\n",
       "</table>\n",
       "</div>"
      ],
      "text/plain": [
       "     tip     sex  day\n",
       "20  4.08    Male  Sat\n",
       "21  2.75  Female  Sat\n",
       "22  2.23  Female  Sat\n",
       "23  7.58    Male  Sat\n",
       "24  3.18    Male  Sat\n",
       "25  2.34    Male  Sat\n",
       "26  2.00    Male  Sat\n",
       "27  2.00    Male  Sat\n",
       "28  4.30    Male  Sat\n",
       "29  3.00  Female  Sat\n",
       "30  1.45    Male  Sat\n",
       "31  2.50    Male  Sat\n",
       "32  3.00  Female  Sat\n",
       "33  2.45  Female  Sat\n",
       "34  3.27    Male  Sat\n",
       "35  3.60    Male  Sat\n",
       "36  2.00    Male  Sat\n",
       "37  3.07  Female  Sat\n",
       "38  2.31    Male  Sat\n",
       "39  5.00    Male  Sat\n",
       "40  2.24    Male  Sat\n",
       "41  2.54    Male  Sun\n",
       "42  3.06    Male  Sun\n",
       "43  1.32    Male  Sun\n",
       "44  5.60    Male  Sun"
      ]
     },
     "execution_count": 35,
     "metadata": {},
     "output_type": "execute_result"
    }
   ],
   "source": [
    "# Challenge:\n",
    "\n",
    "# Using the tips dataframe, create a new one that contains the \n",
    "# information contained in all rows between the 20th (inclusive) \n",
    "# and the 45th (exclusive) and only the columns: tip, sex, day\n",
    "\n",
    "tips.loc[20:44, ['tip', 'sex', 'day']]"
   ]
  },
  {
   "cell_type": "markdown",
   "metadata": {
    "ein.tags": "worksheet-0",
    "slideshow": {
     "slide_type": "slide"
    }
   },
   "source": [
    "Note that certain operations are exchangeable: the 3rd element of column \"sex\" can be obtained with either of the following ways: \n",
    "```python\n",
    "tips.sex[2] #access col as series, then the 3rd element of that\n",
    "tips.loc[2,\"sex\"] #access the entry in dataframe by giving the index labels of row and col (recall here index labels coincide with numerical indices\n",
    "tips.loc[2][\"sex\"] #accessing the whole row as a series, then using the column name as index label\n",
    "```\n",
    "etc\n"
   ]
  },
  {
   "cell_type": "markdown",
   "metadata": {
    "ein.tags": "worksheet-0",
    "slideshow": {
     "slide_type": "slide"
    }
   },
   "source": [
    "## Filtering\n",
    "\n",
    "As with series, we can use a boolean-valued series to index a dataframe provided the share the same index labels. The simplest instance of this is to use series produced as boolean masks of columns of the dataframe. The output of this *filtering* operation is a dataframe with subset of rows corresponding to the True values in the boolean mask. \n",
    "\n",
    "For example, for the tips data, what does the following produce? \n",
    "```python\n",
    "tips[tips.sex == \"Male\"] \n",
    "```\n",
    "\n",
    "Recall that the boolean operators are \n",
    "```python\n",
    "& # AND\n",
    "| # OR\n",
    "~ # NOT\n",
    "\n",
    "```"
   ]
  },
  {
   "cell_type": "markdown",
   "metadata": {
    "ein.tags": "worksheet-0",
    "slideshow": {
     "slide_type": "slide"
    }
   },
   "source": [
    "## Statistics and computations\n",
    "\n",
    "dataframe comes with several attributes for computing column-wise statistics and summaries. We highlight some \n",
    "```python\n",
    ".boxplot # check out the \"by = \" option!\n",
    ".corrwith & .corr # within and across dataframes!\n",
    ".dot \n",
    ".mean/median/max/quantile/sum etc\n",
    ".sample \n",
    ".sort_values \n",
    "```"
   ]
  },
  {
   "cell_type": "code",
   "execution_count": 38,
   "metadata": {
    "autoscroll": false,
    "ein.hycell": false,
    "ein.tags": "worksheet-0",
    "slideshow": {
     "slide_type": "-"
    }
   },
   "outputs": [
    {
     "data": {
      "text/html": [
       "<div>\n",
       "<style scoped>\n",
       "    .dataframe tbody tr th:only-of-type {\n",
       "        vertical-align: middle;\n",
       "    }\n",
       "\n",
       "    .dataframe tbody tr th {\n",
       "        vertical-align: top;\n",
       "    }\n",
       "\n",
       "    .dataframe thead th {\n",
       "        text-align: right;\n",
       "    }\n",
       "</style>\n",
       "<table border=\"1\" class=\"dataframe\">\n",
       "  <thead>\n",
       "    <tr style=\"text-align: right;\">\n",
       "      <th></th>\n",
       "      <th>total_bill</th>\n",
       "      <th>tip</th>\n",
       "      <th>sex</th>\n",
       "      <th>smoker</th>\n",
       "      <th>day</th>\n",
       "      <th>time</th>\n",
       "      <th>size</th>\n",
       "    </tr>\n",
       "  </thead>\n",
       "  <tbody>\n",
       "    <tr>\n",
       "      <th>0</th>\n",
       "      <td>16.99</td>\n",
       "      <td>1.01</td>\n",
       "      <td>Female</td>\n",
       "      <td>No</td>\n",
       "      <td>Sun</td>\n",
       "      <td>Dinner</td>\n",
       "      <td>2</td>\n",
       "    </tr>\n",
       "    <tr>\n",
       "      <th>1</th>\n",
       "      <td>10.34</td>\n",
       "      <td>1.66</td>\n",
       "      <td>Male</td>\n",
       "      <td>No</td>\n",
       "      <td>Sun</td>\n",
       "      <td>Dinner</td>\n",
       "      <td>3</td>\n",
       "    </tr>\n",
       "    <tr>\n",
       "      <th>2</th>\n",
       "      <td>21.01</td>\n",
       "      <td>3.50</td>\n",
       "      <td>Male</td>\n",
       "      <td>No</td>\n",
       "      <td>Sun</td>\n",
       "      <td>Dinner</td>\n",
       "      <td>3</td>\n",
       "    </tr>\n",
       "    <tr>\n",
       "      <th>3</th>\n",
       "      <td>23.68</td>\n",
       "      <td>3.31</td>\n",
       "      <td>Male</td>\n",
       "      <td>No</td>\n",
       "      <td>Sun</td>\n",
       "      <td>Dinner</td>\n",
       "      <td>2</td>\n",
       "    </tr>\n",
       "    <tr>\n",
       "      <th>4</th>\n",
       "      <td>24.59</td>\n",
       "      <td>3.61</td>\n",
       "      <td>Female</td>\n",
       "      <td>No</td>\n",
       "      <td>Sun</td>\n",
       "      <td>Dinner</td>\n",
       "      <td>4</td>\n",
       "    </tr>\n",
       "  </tbody>\n",
       "</table>\n",
       "</div>"
      ],
      "text/plain": [
       "   total_bill   tip     sex smoker  day    time  size\n",
       "0       16.99  1.01  Female     No  Sun  Dinner     2\n",
       "1       10.34  1.66    Male     No  Sun  Dinner     3\n",
       "2       21.01  3.50    Male     No  Sun  Dinner     3\n",
       "3       23.68  3.31    Male     No  Sun  Dinner     2\n",
       "4       24.59  3.61  Female     No  Sun  Dinner     4"
      ]
     },
     "execution_count": 38,
     "metadata": {},
     "output_type": "execute_result"
    }
   ],
   "source": [
    "tips.head()"
   ]
  },
  {
   "cell_type": "code",
   "execution_count": 42,
   "metadata": {
    "autoscroll": false,
    "ein.hycell": false,
    "ein.tags": "worksheet-0",
    "slideshow": {
     "slide_type": "-"
    }
   },
   "outputs": [
    {
     "data": {
      "text/html": [
       "<div>\n",
       "<style scoped>\n",
       "    .dataframe tbody tr th:only-of-type {\n",
       "        vertical-align: middle;\n",
       "    }\n",
       "\n",
       "    .dataframe tbody tr th {\n",
       "        vertical-align: top;\n",
       "    }\n",
       "\n",
       "    .dataframe thead th {\n",
       "        text-align: right;\n",
       "    }\n",
       "</style>\n",
       "<table border=\"1\" class=\"dataframe\">\n",
       "  <thead>\n",
       "    <tr style=\"text-align: right;\">\n",
       "      <th></th>\n",
       "      <th>tip</th>\n",
       "      <th>size</th>\n",
       "    </tr>\n",
       "  </thead>\n",
       "  <tbody>\n",
       "    <tr>\n",
       "      <th>tip</th>\n",
       "      <td>1.00000</td>\n",
       "      <td>0.45519</td>\n",
       "    </tr>\n",
       "    <tr>\n",
       "      <th>size</th>\n",
       "      <td>0.45519</td>\n",
       "      <td>1.00000</td>\n",
       "    </tr>\n",
       "  </tbody>\n",
       "</table>\n",
       "</div>"
      ],
      "text/plain": [
       "          tip     size\n",
       "tip   1.00000  0.45519\n",
       "size  0.45519  1.00000"
      ]
     },
     "execution_count": 42,
     "metadata": {},
     "output_type": "execute_result"
    }
   ],
   "source": [
    "# Challenge:\n",
    "\n",
    "# Using the tips dataframe, calculate the correlation between\n",
    "# tip and size for only Male clients during Dinner. \n",
    "\n",
    "# HINT: Remember that \"size\" cannot be accessed via dot notation, as it's an \n",
    "# attribute of the series!\n",
    "\n",
    "tips[tips.sex == 'Male'][['tip', 'size']].corr()"
   ]
  },
  {
   "cell_type": "markdown",
   "metadata": {
    "ein.tags": "worksheet-0",
    "slideshow": {
     "slide_type": "slide"
    }
   },
   "source": [
    "## GroupBy\n",
    "\n",
    "This dataframe method groups the dataframe according to the values of a column, treating them as categorical values; it returns a groupby object!\n",
    "\n",
    "Groupby objects are useful, but can feel a bit opaque. Let's play around with them a bit: "
   ]
  },
  {
   "cell_type": "code",
   "execution_count": 43,
   "metadata": {
    "autoscroll": false,
    "ein.hycell": false,
    "ein.tags": "worksheet-0",
    "slideshow": {
     "slide_type": "-"
    }
   },
   "outputs": [
    {
     "data": {
      "text/plain": [
       "<pandas.core.groupby.generic.DataFrameGroupBy object at 0x7f0733c18588>"
      ]
     },
     "execution_count": 43,
     "metadata": {},
     "output_type": "execute_result"
    }
   ],
   "source": [
    "# Group tips dataframe by size of table\n",
    "by_size = tips.groupby(\"size\")\n",
    "\n",
    "by_size"
   ]
  },
  {
   "cell_type": "code",
   "execution_count": 44,
   "metadata": {
    "autoscroll": false,
    "ein.hycell": false,
    "ein.tags": "worksheet-0",
    "slideshow": {
     "slide_type": "-"
    }
   },
   "outputs": [
    {
     "data": {
      "text/plain": [
       "[(1,      total_bill   tip     sex smoker   day    time  size\n",
       "  67         3.07  1.00  Female    Yes   Sat  Dinner     1\n",
       "  82        10.07  1.83  Female     No  Thur   Lunch     1\n",
       "  111        7.25  1.00  Female     No   Sat  Dinner     1\n",
       "  222        8.58  1.92    Male    Yes   Fri   Lunch     1),\n",
       " (2,      total_bill   tip     sex smoker   day    time  size\n",
       "  0         16.99  1.01  Female     No   Sun  Dinner     2\n",
       "  3         23.68  3.31    Male     No   Sun  Dinner     2\n",
       "  6          8.77  2.00    Male     No   Sun  Dinner     2\n",
       "  8         15.04  1.96    Male     No   Sun  Dinner     2\n",
       "  9         14.78  3.23    Male     No   Sun  Dinner     2\n",
       "  10        10.27  1.71    Male     No   Sun  Dinner     2\n",
       "  12        15.42  1.57    Male     No   Sun  Dinner     2\n",
       "  14        14.83  3.02  Female     No   Sun  Dinner     2\n",
       "  15        21.58  3.92    Male     No   Sun  Dinner     2\n",
       "  20        17.92  4.08    Male     No   Sat  Dinner     2\n",
       "  21        20.29  2.75  Female     No   Sat  Dinner     2\n",
       "  22        15.77  2.23  Female     No   Sat  Dinner     2\n",
       "  24        19.82  3.18    Male     No   Sat  Dinner     2\n",
       "  26        13.37  2.00    Male     No   Sat  Dinner     2\n",
       "  27        12.69  2.00    Male     No   Sat  Dinner     2\n",
       "  28        21.70  4.30    Male     No   Sat  Dinner     2\n",
       "  29        19.65  3.00  Female     No   Sat  Dinner     2\n",
       "  30         9.55  1.45    Male     No   Sat  Dinner     2\n",
       "  32        15.06  3.00  Female     No   Sat  Dinner     2\n",
       "  34        17.78  3.27    Male     No   Sat  Dinner     2\n",
       "  41        17.46  2.54    Male     No   Sun  Dinner     2\n",
       "  42        13.94  3.06    Male     No   Sun  Dinner     2\n",
       "  43         9.68  1.32    Male     No   Sun  Dinner     2\n",
       "  45        18.29  3.00    Male     No   Sun  Dinner     2\n",
       "  46        22.23  5.00    Male     No   Sun  Dinner     2\n",
       "  49        18.04  3.00    Male     No   Sun  Dinner     2\n",
       "  50        12.54  2.50    Male     No   Sun  Dinner     2\n",
       "  51        10.29  2.60  Female     No   Sun  Dinner     2\n",
       "  53         9.94  1.56    Male     No   Sun  Dinner     2\n",
       "  55        19.49  3.51    Male     No   Sun  Dinner     2\n",
       "  ..          ...   ...     ...    ...   ...     ...   ...\n",
       "  195        7.56  1.44    Male     No  Thur   Lunch     2\n",
       "  196       10.34  2.00    Male    Yes  Thur   Lunch     2\n",
       "  198       13.00  2.00  Female    Yes  Thur   Lunch     2\n",
       "  199       13.51  2.00    Male    Yes  Thur   Lunch     2\n",
       "  201       12.74  2.01  Female    Yes  Thur   Lunch     2\n",
       "  202       13.00  2.00  Female    Yes  Thur   Lunch     2\n",
       "  203       16.40  2.50  Female    Yes  Thur   Lunch     2\n",
       "  208       24.27  2.03    Male    Yes   Sat  Dinner     2\n",
       "  209       12.76  2.23  Female    Yes   Sat  Dinner     2\n",
       "  213       13.27  2.50  Female    Yes   Sat  Dinner     2\n",
       "  215       12.90  1.10  Female    Yes   Sat  Dinner     2\n",
       "  217       11.59  1.50    Male    Yes   Sat  Dinner     2\n",
       "  218        7.74  1.44    Male    Yes   Sat  Dinner     2\n",
       "  220       12.16  2.20    Male    Yes   Fri   Lunch     2\n",
       "  221       13.42  3.48  Female    Yes   Fri   Lunch     2\n",
       "  224       13.42  1.58    Male    Yes   Fri   Lunch     2\n",
       "  225       16.27  2.50  Female    Yes   Fri   Lunch     2\n",
       "  226       10.09  2.00  Female    Yes   Fri   Lunch     2\n",
       "  228       13.28  2.72    Male     No   Sat  Dinner     2\n",
       "  229       22.12  2.88  Female    Yes   Sat  Dinner     2\n",
       "  232       11.61  3.39    Male     No   Sat  Dinner     2\n",
       "  233       10.77  1.47    Male     No   Sat  Dinner     2\n",
       "  234       15.53  3.00    Male    Yes   Sat  Dinner     2\n",
       "  235       10.07  1.25    Male     No   Sat  Dinner     2\n",
       "  236       12.60  1.00    Male    Yes   Sat  Dinner     2\n",
       "  237       32.83  1.17    Male    Yes   Sat  Dinner     2\n",
       "  240       27.18  2.00  Female    Yes   Sat  Dinner     2\n",
       "  241       22.67  2.00    Male    Yes   Sat  Dinner     2\n",
       "  242       17.82  1.75    Male     No   Sat  Dinner     2\n",
       "  243       18.78  3.00  Female     No  Thur  Dinner     2\n",
       "  \n",
       "  [156 rows x 7 columns]),\n",
       " (3,      total_bill    tip     sex smoker   day    time  size\n",
       "  1         10.34   1.66    Male     No   Sun  Dinner     3\n",
       "  2         21.01   3.50    Male     No   Sun  Dinner     3\n",
       "  16        10.33   1.67  Female     No   Sun  Dinner     3\n",
       "  17        16.29   3.71    Male     No   Sun  Dinner     3\n",
       "  18        16.97   3.50  Female     No   Sun  Dinner     3\n",
       "  19        20.65   3.35    Male     No   Sat  Dinner     3\n",
       "  35        24.06   3.60    Male     No   Sat  Dinner     3\n",
       "  36        16.31   2.00    Male     No   Sat  Dinner     3\n",
       "  37        16.93   3.07  Female     No   Sat  Dinner     3\n",
       "  38        18.69   2.31    Male     No   Sat  Dinner     3\n",
       "  39        31.27   5.00    Male     No   Sat  Dinner     3\n",
       "  40        16.04   2.24    Male     No   Sat  Dinner     3\n",
       "  48        28.55   2.05    Male     No   Sun  Dinner     3\n",
       "  64        17.59   2.64    Male     No   Sat  Dinner     3\n",
       "  65        20.08   3.15    Male     No   Sat  Dinner     3\n",
       "  71        17.07   3.00  Female     No   Sat  Dinner     3\n",
       "  102       44.30   2.50  Female    Yes   Sat  Dinner     3\n",
       "  112       38.07   4.00    Male     No   Sun  Dinner     3\n",
       "  114       25.71   4.00  Female     No   Sun  Dinner     3\n",
       "  129       22.82   2.18    Male     No  Thur   Lunch     3\n",
       "  146       18.64   1.36  Female     No  Thur   Lunch     3\n",
       "  152       17.26   2.74    Male     No   Sun  Dinner     3\n",
       "  162       16.21   2.00  Female     No   Sun  Dinner     3\n",
       "  165       24.52   3.48    Male     No   Sun  Dinner     3\n",
       "  170       50.81  10.00    Male    Yes   Sat  Dinner     3\n",
       "  182       45.35   3.50    Male    Yes   Sun  Dinner     3\n",
       "  186       20.90   3.50  Female    Yes   Sun  Dinner     3\n",
       "  188       18.15   3.50  Female    Yes   Sun  Dinner     3\n",
       "  189       23.10   4.00    Male    Yes   Sun  Dinner     3\n",
       "  200       18.71   4.00    Male    Yes  Thur   Lunch     3\n",
       "  205       16.47   3.23  Female    Yes  Thur   Lunch     3\n",
       "  206       26.59   3.41    Male    Yes   Sat  Dinner     3\n",
       "  210       30.06   2.00    Male    Yes   Sat  Dinner     3\n",
       "  214       28.17   6.50  Female    Yes   Sat  Dinner     3\n",
       "  223       15.98   3.00  Female     No   Fri   Lunch     3\n",
       "  231       15.69   3.00    Male    Yes   Sat  Dinner     3\n",
       "  238       35.83   4.67  Female     No   Sat  Dinner     3\n",
       "  239       29.03   5.92    Male     No   Sat  Dinner     3),\n",
       " (4,      total_bill   tip     sex smoker   day    time  size\n",
       "  4         24.59  3.61  Female     No   Sun  Dinner     4\n",
       "  5         25.29  4.71    Male     No   Sun  Dinner     4\n",
       "  7         26.88  3.12    Male     No   Sun  Dinner     4\n",
       "  11        35.26  5.00  Female     No   Sun  Dinner     4\n",
       "  13        18.43  3.00    Male     No   Sun  Dinner     4\n",
       "  23        39.42  7.58    Male     No   Sat  Dinner     4\n",
       "  25        17.81  2.34    Male     No   Sat  Dinner     4\n",
       "  31        18.35  2.50    Male     No   Sat  Dinner     4\n",
       "  33        20.69  2.45  Female     No   Sat  Dinner     4\n",
       "  44        30.40  5.60    Male     No   Sun  Dinner     4\n",
       "  47        32.40  6.00    Male     No   Sun  Dinner     4\n",
       "  52        34.81  5.20  Female     No   Sun  Dinner     4\n",
       "  54        25.56  4.34    Male     No   Sun  Dinner     4\n",
       "  56        38.01  3.00    Male    Yes   Sat  Dinner     4\n",
       "  59        48.27  6.73    Male     No   Sat  Dinner     4\n",
       "  63        18.29  3.76    Male    Yes   Sat  Dinner     4\n",
       "  77        27.20  4.00    Male     No  Thur   Lunch     4\n",
       "  85        34.83  5.17  Female     No  Thur   Lunch     4\n",
       "  95        40.17  4.73    Male    Yes   Fri  Dinner     4\n",
       "  116       29.93  5.07    Male     No   Sun  Dinner     4\n",
       "  119       24.08  2.92  Female     No  Thur   Lunch     4\n",
       "  153       24.55  2.00    Male     No   Sun  Dinner     4\n",
       "  154       19.77  2.00    Male     No   Sun  Dinner     4\n",
       "  157       25.00  3.75  Female     No   Sun  Dinner     4\n",
       "  159       16.49  2.00    Male     No   Sun  Dinner     4\n",
       "  160       21.50  3.50    Male     No   Sun  Dinner     4\n",
       "  167       31.71  4.50    Male     No   Sun  Dinner     4\n",
       "  180       34.65  3.68    Male    Yes   Sun  Dinner     4\n",
       "  183       23.17  6.50    Male    Yes   Sun  Dinner     4\n",
       "  197       43.11  5.00  Female    Yes  Thur   Lunch     4\n",
       "  204       20.53  4.00    Male    Yes  Thur   Lunch     4\n",
       "  207       38.73  3.00    Male    Yes   Sat  Dinner     4\n",
       "  211       25.89  5.16    Male    Yes   Sat  Dinner     4\n",
       "  212       48.33  9.00    Male     No   Sat  Dinner     4\n",
       "  219       30.14  3.09  Female    Yes   Sat  Dinner     4\n",
       "  227       20.45  3.00    Male     No   Sat  Dinner     4\n",
       "  230       24.01  2.00    Male    Yes   Sat  Dinner     4),\n",
       " (5,      total_bill   tip     sex smoker   day    time  size\n",
       "  142       41.19  5.00    Male     No  Thur   Lunch     5\n",
       "  155       29.85  5.14  Female     No   Sun  Dinner     5\n",
       "  185       20.69  5.00    Male     No   Sun  Dinner     5\n",
       "  187       30.46  2.00    Male    Yes   Sun  Dinner     5\n",
       "  216       28.15  3.00    Male    Yes   Sat  Dinner     5),\n",
       " (6,      total_bill  tip     sex smoker   day    time  size\n",
       "  125       29.80  4.2  Female     No  Thur   Lunch     6\n",
       "  141       34.30  6.7    Male     No  Thur   Lunch     6\n",
       "  143       27.05  5.0  Female     No  Thur   Lunch     6\n",
       "  156       48.17  5.0    Male     No   Sun  Dinner     6)]"
      ]
     },
     "execution_count": 44,
     "metadata": {},
     "output_type": "execute_result"
    }
   ],
   "source": [
    "# If we coerce it to a list, we see something interesting: \n",
    "# It's basically a list of tuples! \n",
    "# The first element is the \"category\" variable, the second\n",
    "# is a datafame. \n",
    "\n",
    "list(by_size)"
   ]
  },
  {
   "cell_type": "code",
   "execution_count": 45,
   "metadata": {
    "autoscroll": false,
    "ein.hycell": false,
    "ein.tags": "worksheet-0",
    "slideshow": {
     "slide_type": "-"
    }
   },
   "outputs": [
    {
     "name": "stdout",
     "output_type": "stream",
     "text": [
      "Female\n",
      "total_bill    18.056897\n",
      "tip            2.833448\n",
      "size           2.459770\n",
      "dtype: float64\n",
      "Male\n",
      "total_bill    20.744076\n",
      "tip            3.089618\n",
      "size           2.630573\n",
      "dtype: float64\n"
     ]
    }
   ],
   "source": [
    "# We can iterate through the groupby just like we would a list of tuples!\n",
    "\n",
    "\n",
    "for sex,data in tips.groupby(\"sex\"):\n",
    "    print(sex)\n",
    "    print(data.mean())"
   ]
  },
  {
   "cell_type": "markdown",
   "metadata": {
    "ein.tags": "worksheet-0",
    "slideshow": {
     "slide_type": "slide"
    }
   },
   "source": [
    "## Why do we groupby? \n",
    "\n",
    "We group by to perform _some_ operation on each group. To _map_ over the groups, applying a function to each element! \n",
    "\n",
    "Very often this function is itself an aggregation (reduction). We want to somehow aggregate each group into a value or set of values that _describe_ the group!\n",
    "\n",
    "How do we apply functions to each element of a groupby? We use a handy method called \".apply\"!"
   ]
  },
  {
   "cell_type": "code",
   "execution_count": 46,
   "metadata": {
    "autoscroll": false,
    "ein.hycell": false,
    "ein.tags": "worksheet-0",
    "slideshow": {
     "slide_type": "-"
    }
   },
   "outputs": [
    {
     "data": {
      "text/plain": [
       "sex\n",
       "Female    44.30\n",
       "Male      50.81\n",
       "dtype: float64"
      ]
     },
     "execution_count": 46,
     "metadata": {},
     "output_type": "execute_result"
    }
   ],
   "source": [
    "# Get the maximum bill by gender: \n",
    "\n",
    "def max_bill(df):\n",
    "    return df.total_bill.max()\n",
    "\n",
    "tips.groupby(\"sex\").apply(max_bill)"
   ]
  },
  {
   "cell_type": "code",
   "execution_count": 51,
   "metadata": {
    "autoscroll": false,
    "ein.hycell": false,
    "ein.tags": "worksheet-0",
    "slideshow": {
     "slide_type": "-"
    }
   },
   "outputs": [
    {
     "data": {
      "text/html": [
       "<div>\n",
       "<style scoped>\n",
       "    .dataframe tbody tr th:only-of-type {\n",
       "        vertical-align: middle;\n",
       "    }\n",
       "\n",
       "    .dataframe tbody tr th {\n",
       "        vertical-align: top;\n",
       "    }\n",
       "\n",
       "    .dataframe thead th {\n",
       "        text-align: right;\n",
       "    }\n",
       "</style>\n",
       "<table border=\"1\" class=\"dataframe\">\n",
       "  <thead>\n",
       "    <tr style=\"text-align: right;\">\n",
       "      <th></th>\n",
       "      <th>total_bill</th>\n",
       "      <th>tip</th>\n",
       "      <th>sex</th>\n",
       "      <th>smoker</th>\n",
       "      <th>day</th>\n",
       "      <th>time</th>\n",
       "      <th>size</th>\n",
       "    </tr>\n",
       "    <tr>\n",
       "      <th>sex</th>\n",
       "      <th></th>\n",
       "      <th></th>\n",
       "      <th></th>\n",
       "      <th></th>\n",
       "      <th></th>\n",
       "      <th></th>\n",
       "      <th></th>\n",
       "    </tr>\n",
       "  </thead>\n",
       "  <tbody>\n",
       "    <tr>\n",
       "      <th>Female</th>\n",
       "      <td>43.11</td>\n",
       "      <td>5.0</td>\n",
       "      <td>Female</td>\n",
       "      <td>Yes</td>\n",
       "      <td>Thur</td>\n",
       "      <td>Lunch</td>\n",
       "      <td>4</td>\n",
       "    </tr>\n",
       "    <tr>\n",
       "      <th>Male</th>\n",
       "      <td>48.33</td>\n",
       "      <td>9.0</td>\n",
       "      <td>Male</td>\n",
       "      <td>No</td>\n",
       "      <td>Sat</td>\n",
       "      <td>Dinner</td>\n",
       "      <td>4</td>\n",
       "    </tr>\n",
       "  </tbody>\n",
       "</table>\n",
       "</div>"
      ],
      "text/plain": [
       "        total_bill  tip     sex smoker   day    time  size\n",
       "sex                                                       \n",
       "Female       43.11  5.0  Female    Yes  Thur   Lunch     4\n",
       "Male         48.33  9.0    Male     No   Sat  Dinner     4"
      ]
     },
     "execution_count": 51,
     "metadata": {},
     "output_type": "execute_result"
    }
   ],
   "source": [
    "# Challenge: \n",
    "\n",
    "# Get the second largest bill by gender!\n",
    "# HINT: use sort_values and iloc!\n",
    "\n",
    "def second_largest_bill(df):\n",
    "    return df.sort_values('total_bill').iloc[-2]\n",
    "\n",
    "tips.groupby('sex').apply(second_largest_bill)"
   ]
  },
  {
   "cell_type": "markdown",
   "metadata": {
    "ein.tags": "worksheet-0",
    "slideshow": {
     "slide_type": "-"
    }
   },
   "source": [
    "## Built-in Aggregations in groupby\n",
    "\n",
    "Many aggregation functions that exist on Series and DataFrames (mean, max, min, etc.) can be called directly via the groupby object: \n",
    "\n",
    "```python\n",
    "tips.groupby(\"sex\").max()\n",
    "tips.groupby(\"sex\").mean()\n",
    "```"
   ]
  },
  {
   "cell_type": "code",
   "execution_count": 56,
   "metadata": {
    "autoscroll": false,
    "ein.hycell": false,
    "ein.tags": "worksheet-0",
    "slideshow": {
     "slide_type": "-"
    }
   },
   "outputs": [
    {
     "data": {
      "text/html": [
       "<div>\n",
       "<style scoped>\n",
       "    .dataframe tbody tr th:only-of-type {\n",
       "        vertical-align: middle;\n",
       "    }\n",
       "\n",
       "    .dataframe tbody tr th {\n",
       "        vertical-align: top;\n",
       "    }\n",
       "\n",
       "    .dataframe thead th {\n",
       "        text-align: right;\n",
       "    }\n",
       "</style>\n",
       "<table border=\"1\" class=\"dataframe\">\n",
       "  <thead>\n",
       "    <tr style=\"text-align: right;\">\n",
       "      <th>day</th>\n",
       "      <th>Fri</th>\n",
       "      <th>Sat</th>\n",
       "      <th>Sun</th>\n",
       "      <th>Thur</th>\n",
       "    </tr>\n",
       "    <tr>\n",
       "      <th>sex</th>\n",
       "      <th></th>\n",
       "      <th></th>\n",
       "      <th></th>\n",
       "      <th></th>\n",
       "    </tr>\n",
       "  </thead>\n",
       "  <tbody>\n",
       "    <tr>\n",
       "      <th>Female</th>\n",
       "      <td>2.781111</td>\n",
       "      <td>2.801786</td>\n",
       "      <td>3.367222</td>\n",
       "      <td>2.575625</td>\n",
       "    </tr>\n",
       "    <tr>\n",
       "      <th>Male</th>\n",
       "      <td>2.693000</td>\n",
       "      <td>3.083898</td>\n",
       "      <td>3.220345</td>\n",
       "      <td>2.980333</td>\n",
       "    </tr>\n",
       "  </tbody>\n",
       "</table>\n",
       "</div>"
      ],
      "text/plain": [
       "day          Fri       Sat       Sun      Thur\n",
       "sex                                           \n",
       "Female  2.781111  2.801786  3.367222  2.575625\n",
       "Male    2.693000  3.083898  3.220345  2.980333"
      ]
     },
     "execution_count": 56,
     "metadata": {},
     "output_type": "execute_result"
    }
   ],
   "source": [
    "# Challenge: \n",
    "# What is the mean tip, per day, for male vs. female?\n",
    "\n",
    "\n",
    "def day_mean(df):\n",
    "    return df.groupby('day').mean()['tip']\n",
    "\n",
    "\n",
    "tips.groupby(\"sex\").apply(day_mean)"
   ]
  },
  {
   "cell_type": "markdown",
   "metadata": {
    "ein.tags": "worksheet-0",
    "slideshow": {
     "slide_type": "-"
    }
   },
   "source": [
    "\n",
    "# Multiple Groupby!\n",
    "\n",
    "That groupby induction that we just performed, it's quite a common use-case! So there's an even easier way to do it in Pandas. \n",
    "\n",
    "We can group by more than one column! \n",
    "\n",
    "For example the task we accomplished above could also be derived as: \n",
    "\n",
    "```python\n",
    "tips.groupby([\"sex\",\"day\"]).tip.mean()\n",
    "```"
   ]
  },
  {
   "cell_type": "code",
   "execution_count": 57,
   "metadata": {
    "autoscroll": false,
    "ein.hycell": false,
    "ein.tags": "worksheet-0",
    "slideshow": {
     "slide_type": "-"
    }
   },
   "outputs": [
    {
     "data": {
      "text/plain": [
       "[(('Female', 'Fri'),      total_bill   tip     sex smoker  day    time  size\n",
       "  92         5.75  1.00  Female    Yes  Fri  Dinner     2\n",
       "  93        16.32  4.30  Female    Yes  Fri  Dinner     2\n",
       "  94        22.75  3.25  Female     No  Fri  Dinner     2\n",
       "  100       11.35  2.50  Female    Yes  Fri  Dinner     2\n",
       "  101       15.38  3.00  Female    Yes  Fri  Dinner     2\n",
       "  221       13.42  3.48  Female    Yes  Fri   Lunch     2\n",
       "  223       15.98  3.00  Female     No  Fri   Lunch     3\n",
       "  225       16.27  2.50  Female    Yes  Fri   Lunch     2\n",
       "  226       10.09  2.00  Female    Yes  Fri   Lunch     2),\n",
       " (('Female', 'Sat'),      total_bill   tip     sex smoker  day    time  size\n",
       "  21        20.29  2.75  Female     No  Sat  Dinner     2\n",
       "  22        15.77  2.23  Female     No  Sat  Dinner     2\n",
       "  29        19.65  3.00  Female     No  Sat  Dinner     2\n",
       "  32        15.06  3.00  Female     No  Sat  Dinner     2\n",
       "  33        20.69  2.45  Female     No  Sat  Dinner     4\n",
       "  37        16.93  3.07  Female     No  Sat  Dinner     3\n",
       "  57        26.41  1.50  Female     No  Sat  Dinner     2\n",
       "  66        16.45  2.47  Female     No  Sat  Dinner     2\n",
       "  67         3.07  1.00  Female    Yes  Sat  Dinner     1\n",
       "  71        17.07  3.00  Female     No  Sat  Dinner     3\n",
       "  72        26.86  3.14  Female    Yes  Sat  Dinner     2\n",
       "  73        25.28  5.00  Female    Yes  Sat  Dinner     2\n",
       "  74        14.73  2.20  Female     No  Sat  Dinner     2\n",
       "  102       44.30  2.50  Female    Yes  Sat  Dinner     3\n",
       "  103       22.42  3.48  Female    Yes  Sat  Dinner     2\n",
       "  104       20.92  4.08  Female     No  Sat  Dinner     2\n",
       "  109       14.31  4.00  Female    Yes  Sat  Dinner     2\n",
       "  111        7.25  1.00  Female     No  Sat  Dinner     1\n",
       "  168       10.59  1.61  Female    Yes  Sat  Dinner     2\n",
       "  169       10.63  2.00  Female    Yes  Sat  Dinner     2\n",
       "  209       12.76  2.23  Female    Yes  Sat  Dinner     2\n",
       "  213       13.27  2.50  Female    Yes  Sat  Dinner     2\n",
       "  214       28.17  6.50  Female    Yes  Sat  Dinner     3\n",
       "  215       12.90  1.10  Female    Yes  Sat  Dinner     2\n",
       "  219       30.14  3.09  Female    Yes  Sat  Dinner     4\n",
       "  229       22.12  2.88  Female    Yes  Sat  Dinner     2\n",
       "  238       35.83  4.67  Female     No  Sat  Dinner     3\n",
       "  240       27.18  2.00  Female    Yes  Sat  Dinner     2),\n",
       " (('Female', 'Sun'),      total_bill   tip     sex smoker  day    time  size\n",
       "  0         16.99  1.01  Female     No  Sun  Dinner     2\n",
       "  4         24.59  3.61  Female     No  Sun  Dinner     4\n",
       "  11        35.26  5.00  Female     No  Sun  Dinner     4\n",
       "  14        14.83  3.02  Female     No  Sun  Dinner     2\n",
       "  16        10.33  1.67  Female     No  Sun  Dinner     3\n",
       "  18        16.97  3.50  Female     No  Sun  Dinner     3\n",
       "  51        10.29  2.60  Female     No  Sun  Dinner     2\n",
       "  52        34.81  5.20  Female     No  Sun  Dinner     4\n",
       "  114       25.71  4.00  Female     No  Sun  Dinner     3\n",
       "  115       17.31  3.50  Female     No  Sun  Dinner     2\n",
       "  155       29.85  5.14  Female     No  Sun  Dinner     5\n",
       "  157       25.00  3.75  Female     No  Sun  Dinner     4\n",
       "  158       13.39  2.61  Female     No  Sun  Dinner     2\n",
       "  162       16.21  2.00  Female     No  Sun  Dinner     3\n",
       "  164       17.51  3.00  Female    Yes  Sun  Dinner     2\n",
       "  178        9.60  4.00  Female    Yes  Sun  Dinner     2\n",
       "  186       20.90  3.50  Female    Yes  Sun  Dinner     3\n",
       "  188       18.15  3.50  Female    Yes  Sun  Dinner     3),\n",
       " (('Female', 'Thur'),      total_bill   tip     sex smoker   day    time  size\n",
       "  82        10.07  1.83  Female     No  Thur   Lunch     1\n",
       "  85        34.83  5.17  Female     No  Thur   Lunch     4\n",
       "  117       10.65  1.50  Female     No  Thur   Lunch     2\n",
       "  118       12.43  1.80  Female     No  Thur   Lunch     2\n",
       "  119       24.08  2.92  Female     No  Thur   Lunch     4\n",
       "  121       13.42  1.68  Female     No  Thur   Lunch     2\n",
       "  124       12.48  2.52  Female     No  Thur   Lunch     2\n",
       "  125       29.80  4.20  Female     No  Thur   Lunch     6\n",
       "  127       14.52  2.00  Female     No  Thur   Lunch     2\n",
       "  128       11.38  2.00  Female     No  Thur   Lunch     2\n",
       "  131       20.27  2.83  Female     No  Thur   Lunch     2\n",
       "  132       11.17  1.50  Female     No  Thur   Lunch     2\n",
       "  133       12.26  2.00  Female     No  Thur   Lunch     2\n",
       "  134       18.26  3.25  Female     No  Thur   Lunch     2\n",
       "  135        8.51  1.25  Female     No  Thur   Lunch     2\n",
       "  136       10.33  2.00  Female     No  Thur   Lunch     2\n",
       "  137       14.15  2.00  Female     No  Thur   Lunch     2\n",
       "  139       13.16  2.75  Female     No  Thur   Lunch     2\n",
       "  140       17.47  3.50  Female     No  Thur   Lunch     2\n",
       "  143       27.05  5.00  Female     No  Thur   Lunch     6\n",
       "  144       16.43  2.30  Female     No  Thur   Lunch     2\n",
       "  145        8.35  1.50  Female     No  Thur   Lunch     2\n",
       "  146       18.64  1.36  Female     No  Thur   Lunch     3\n",
       "  147       11.87  1.63  Female     No  Thur   Lunch     2\n",
       "  191       19.81  4.19  Female    Yes  Thur   Lunch     2\n",
       "  197       43.11  5.00  Female    Yes  Thur   Lunch     4\n",
       "  198       13.00  2.00  Female    Yes  Thur   Lunch     2\n",
       "  201       12.74  2.01  Female    Yes  Thur   Lunch     2\n",
       "  202       13.00  2.00  Female    Yes  Thur   Lunch     2\n",
       "  203       16.40  2.50  Female    Yes  Thur   Lunch     2\n",
       "  205       16.47  3.23  Female    Yes  Thur   Lunch     3\n",
       "  243       18.78  3.00  Female     No  Thur  Dinner     2),\n",
       " (('Male', 'Fri'),      total_bill   tip   sex smoker  day    time  size\n",
       "  90        28.97  3.00  Male    Yes  Fri  Dinner     2\n",
       "  91        22.49  3.50  Male     No  Fri  Dinner     2\n",
       "  95        40.17  4.73  Male    Yes  Fri  Dinner     4\n",
       "  96        27.28  4.00  Male    Yes  Fri  Dinner     2\n",
       "  97        12.03  1.50  Male    Yes  Fri  Dinner     2\n",
       "  98        21.01  3.00  Male    Yes  Fri  Dinner     2\n",
       "  99        12.46  1.50  Male     No  Fri  Dinner     2\n",
       "  220       12.16  2.20  Male    Yes  Fri   Lunch     2\n",
       "  222        8.58  1.92  Male    Yes  Fri   Lunch     1\n",
       "  224       13.42  1.58  Male    Yes  Fri   Lunch     2),\n",
       " (('Male', 'Sat'),      total_bill    tip   sex smoker  day    time  size\n",
       "  19        20.65   3.35  Male     No  Sat  Dinner     3\n",
       "  20        17.92   4.08  Male     No  Sat  Dinner     2\n",
       "  23        39.42   7.58  Male     No  Sat  Dinner     4\n",
       "  24        19.82   3.18  Male     No  Sat  Dinner     2\n",
       "  25        17.81   2.34  Male     No  Sat  Dinner     4\n",
       "  26        13.37   2.00  Male     No  Sat  Dinner     2\n",
       "  27        12.69   2.00  Male     No  Sat  Dinner     2\n",
       "  28        21.70   4.30  Male     No  Sat  Dinner     2\n",
       "  30         9.55   1.45  Male     No  Sat  Dinner     2\n",
       "  31        18.35   2.50  Male     No  Sat  Dinner     4\n",
       "  34        17.78   3.27  Male     No  Sat  Dinner     2\n",
       "  35        24.06   3.60  Male     No  Sat  Dinner     3\n",
       "  36        16.31   2.00  Male     No  Sat  Dinner     3\n",
       "  38        18.69   2.31  Male     No  Sat  Dinner     3\n",
       "  39        31.27   5.00  Male     No  Sat  Dinner     3\n",
       "  40        16.04   2.24  Male     No  Sat  Dinner     3\n",
       "  56        38.01   3.00  Male    Yes  Sat  Dinner     4\n",
       "  58        11.24   1.76  Male    Yes  Sat  Dinner     2\n",
       "  59        48.27   6.73  Male     No  Sat  Dinner     4\n",
       "  60        20.29   3.21  Male    Yes  Sat  Dinner     2\n",
       "  61        13.81   2.00  Male    Yes  Sat  Dinner     2\n",
       "  62        11.02   1.98  Male    Yes  Sat  Dinner     2\n",
       "  63        18.29   3.76  Male    Yes  Sat  Dinner     4\n",
       "  64        17.59   2.64  Male     No  Sat  Dinner     3\n",
       "  65        20.08   3.15  Male     No  Sat  Dinner     3\n",
       "  68        20.23   2.01  Male     No  Sat  Dinner     2\n",
       "  69        15.01   2.09  Male    Yes  Sat  Dinner     2\n",
       "  70        12.02   1.97  Male     No  Sat  Dinner     2\n",
       "  75        10.51   1.25  Male     No  Sat  Dinner     2\n",
       "  76        17.92   3.08  Male    Yes  Sat  Dinner     2\n",
       "  105       15.36   1.64  Male    Yes  Sat  Dinner     2\n",
       "  106       20.49   4.06  Male    Yes  Sat  Dinner     2\n",
       "  107       25.21   4.29  Male    Yes  Sat  Dinner     2\n",
       "  108       18.24   3.76  Male     No  Sat  Dinner     2\n",
       "  110       14.00   3.00  Male     No  Sat  Dinner     2\n",
       "  170       50.81  10.00  Male    Yes  Sat  Dinner     3\n",
       "  171       15.81   3.16  Male    Yes  Sat  Dinner     2\n",
       "  206       26.59   3.41  Male    Yes  Sat  Dinner     3\n",
       "  207       38.73   3.00  Male    Yes  Sat  Dinner     4\n",
       "  208       24.27   2.03  Male    Yes  Sat  Dinner     2\n",
       "  210       30.06   2.00  Male    Yes  Sat  Dinner     3\n",
       "  211       25.89   5.16  Male    Yes  Sat  Dinner     4\n",
       "  212       48.33   9.00  Male     No  Sat  Dinner     4\n",
       "  216       28.15   3.00  Male    Yes  Sat  Dinner     5\n",
       "  217       11.59   1.50  Male    Yes  Sat  Dinner     2\n",
       "  218        7.74   1.44  Male    Yes  Sat  Dinner     2\n",
       "  227       20.45   3.00  Male     No  Sat  Dinner     4\n",
       "  228       13.28   2.72  Male     No  Sat  Dinner     2\n",
       "  230       24.01   2.00  Male    Yes  Sat  Dinner     4\n",
       "  231       15.69   3.00  Male    Yes  Sat  Dinner     3\n",
       "  232       11.61   3.39  Male     No  Sat  Dinner     2\n",
       "  233       10.77   1.47  Male     No  Sat  Dinner     2\n",
       "  234       15.53   3.00  Male    Yes  Sat  Dinner     2\n",
       "  235       10.07   1.25  Male     No  Sat  Dinner     2\n",
       "  236       12.60   1.00  Male    Yes  Sat  Dinner     2\n",
       "  237       32.83   1.17  Male    Yes  Sat  Dinner     2\n",
       "  239       29.03   5.92  Male     No  Sat  Dinner     3\n",
       "  241       22.67   2.00  Male    Yes  Sat  Dinner     2\n",
       "  242       17.82   1.75  Male     No  Sat  Dinner     2),\n",
       " (('Male', 'Sun'),      total_bill   tip   sex smoker  day    time  size\n",
       "  1         10.34  1.66  Male     No  Sun  Dinner     3\n",
       "  2         21.01  3.50  Male     No  Sun  Dinner     3\n",
       "  3         23.68  3.31  Male     No  Sun  Dinner     2\n",
       "  5         25.29  4.71  Male     No  Sun  Dinner     4\n",
       "  6          8.77  2.00  Male     No  Sun  Dinner     2\n",
       "  7         26.88  3.12  Male     No  Sun  Dinner     4\n",
       "  8         15.04  1.96  Male     No  Sun  Dinner     2\n",
       "  9         14.78  3.23  Male     No  Sun  Dinner     2\n",
       "  10        10.27  1.71  Male     No  Sun  Dinner     2\n",
       "  12        15.42  1.57  Male     No  Sun  Dinner     2\n",
       "  13        18.43  3.00  Male     No  Sun  Dinner     4\n",
       "  15        21.58  3.92  Male     No  Sun  Dinner     2\n",
       "  17        16.29  3.71  Male     No  Sun  Dinner     3\n",
       "  41        17.46  2.54  Male     No  Sun  Dinner     2\n",
       "  42        13.94  3.06  Male     No  Sun  Dinner     2\n",
       "  43         9.68  1.32  Male     No  Sun  Dinner     2\n",
       "  44        30.40  5.60  Male     No  Sun  Dinner     4\n",
       "  45        18.29  3.00  Male     No  Sun  Dinner     2\n",
       "  46        22.23  5.00  Male     No  Sun  Dinner     2\n",
       "  47        32.40  6.00  Male     No  Sun  Dinner     4\n",
       "  48        28.55  2.05  Male     No  Sun  Dinner     3\n",
       "  49        18.04  3.00  Male     No  Sun  Dinner     2\n",
       "  50        12.54  2.50  Male     No  Sun  Dinner     2\n",
       "  53         9.94  1.56  Male     No  Sun  Dinner     2\n",
       "  54        25.56  4.34  Male     No  Sun  Dinner     4\n",
       "  55        19.49  3.51  Male     No  Sun  Dinner     2\n",
       "  112       38.07  4.00  Male     No  Sun  Dinner     3\n",
       "  113       23.95  2.55  Male     No  Sun  Dinner     2\n",
       "  116       29.93  5.07  Male     No  Sun  Dinner     4\n",
       "  150       14.07  2.50  Male     No  Sun  Dinner     2\n",
       "  151       13.13  2.00  Male     No  Sun  Dinner     2\n",
       "  152       17.26  2.74  Male     No  Sun  Dinner     3\n",
       "  153       24.55  2.00  Male     No  Sun  Dinner     4\n",
       "  154       19.77  2.00  Male     No  Sun  Dinner     4\n",
       "  156       48.17  5.00  Male     No  Sun  Dinner     6\n",
       "  159       16.49  2.00  Male     No  Sun  Dinner     4\n",
       "  160       21.50  3.50  Male     No  Sun  Dinner     4\n",
       "  161       12.66  2.50  Male     No  Sun  Dinner     2\n",
       "  163       13.81  2.00  Male     No  Sun  Dinner     2\n",
       "  165       24.52  3.48  Male     No  Sun  Dinner     3\n",
       "  166       20.76  2.24  Male     No  Sun  Dinner     2\n",
       "  167       31.71  4.50  Male     No  Sun  Dinner     4\n",
       "  172        7.25  5.15  Male    Yes  Sun  Dinner     2\n",
       "  173       31.85  3.18  Male    Yes  Sun  Dinner     2\n",
       "  174       16.82  4.00  Male    Yes  Sun  Dinner     2\n",
       "  175       32.90  3.11  Male    Yes  Sun  Dinner     2\n",
       "  176       17.89  2.00  Male    Yes  Sun  Dinner     2\n",
       "  177       14.48  2.00  Male    Yes  Sun  Dinner     2\n",
       "  179       34.63  3.55  Male    Yes  Sun  Dinner     2\n",
       "  180       34.65  3.68  Male    Yes  Sun  Dinner     4\n",
       "  181       23.33  5.65  Male    Yes  Sun  Dinner     2\n",
       "  182       45.35  3.50  Male    Yes  Sun  Dinner     3\n",
       "  183       23.17  6.50  Male    Yes  Sun  Dinner     4\n",
       "  184       40.55  3.00  Male    Yes  Sun  Dinner     2\n",
       "  185       20.69  5.00  Male     No  Sun  Dinner     5\n",
       "  187       30.46  2.00  Male    Yes  Sun  Dinner     5\n",
       "  189       23.10  4.00  Male    Yes  Sun  Dinner     3\n",
       "  190       15.69  1.50  Male    Yes  Sun  Dinner     2),\n",
       " (('Male', 'Thur'),      total_bill   tip   sex smoker   day   time  size\n",
       "  77        27.20  4.00  Male     No  Thur  Lunch     4\n",
       "  78        22.76  3.00  Male     No  Thur  Lunch     2\n",
       "  79        17.29  2.71  Male     No  Thur  Lunch     2\n",
       "  80        19.44  3.00  Male    Yes  Thur  Lunch     2\n",
       "  81        16.66  3.40  Male     No  Thur  Lunch     2\n",
       "  83        32.68  5.00  Male    Yes  Thur  Lunch     2\n",
       "  84        15.98  2.03  Male     No  Thur  Lunch     2\n",
       "  86        13.03  2.00  Male     No  Thur  Lunch     2\n",
       "  87        18.28  4.00  Male     No  Thur  Lunch     2\n",
       "  88        24.71  5.85  Male     No  Thur  Lunch     2\n",
       "  89        21.16  3.00  Male     No  Thur  Lunch     2\n",
       "  120       11.69  2.31  Male     No  Thur  Lunch     2\n",
       "  122       14.26  2.50  Male     No  Thur  Lunch     2\n",
       "  123       15.95  2.00  Male     No  Thur  Lunch     2\n",
       "  126        8.52  1.48  Male     No  Thur  Lunch     2\n",
       "  129       22.82  2.18  Male     No  Thur  Lunch     3\n",
       "  130       19.08  1.50  Male     No  Thur  Lunch     2\n",
       "  138       16.00  2.00  Male    Yes  Thur  Lunch     2\n",
       "  141       34.30  6.70  Male     No  Thur  Lunch     6\n",
       "  142       41.19  5.00  Male     No  Thur  Lunch     5\n",
       "  148        9.78  1.73  Male     No  Thur  Lunch     2\n",
       "  149        7.51  2.00  Male     No  Thur  Lunch     2\n",
       "  192       28.44  2.56  Male    Yes  Thur  Lunch     2\n",
       "  193       15.48  2.02  Male    Yes  Thur  Lunch     2\n",
       "  194       16.58  4.00  Male    Yes  Thur  Lunch     2\n",
       "  195        7.56  1.44  Male     No  Thur  Lunch     2\n",
       "  196       10.34  2.00  Male    Yes  Thur  Lunch     2\n",
       "  199       13.51  2.00  Male    Yes  Thur  Lunch     2\n",
       "  200       18.71  4.00  Male    Yes  Thur  Lunch     3\n",
       "  204       20.53  4.00  Male    Yes  Thur  Lunch     4)]"
      ]
     },
     "execution_count": 57,
     "metadata": {},
     "output_type": "execute_result"
    }
   ],
   "source": [
    "# Take a look at the structure of the multiple groupby!\n",
    "\n",
    "list(tips.groupby([\"sex\", \"day\"]))"
   ]
  },
  {
   "cell_type": "markdown",
   "metadata": {
    "ein.tags": "worksheet-0",
    "slideshow": {
     "slide_type": "slide"
    }
   },
   "source": [
    "## Combining dataframes\n",
    "\n",
    "There are many ways to combine various dataframes into a new one, extending in many ways what we already saw for operations on series. The main (among various) ways of doing this are: \n",
    "\n",
    "+ Concatenate: paste row-column-wise and taking action on NaNs\n",
    "    + This works more on the rectangular structure of the data \n",
    "+ Merge: combine dataframes using a common piece of information, e.g. a common column\n",
    "    + This works more as a database operation\n"
   ]
  },
  {
   "cell_type": "markdown",
   "metadata": {
    "ein.tags": "worksheet-0",
    "slideshow": {
     "slide_type": "slide"
    }
   },
   "source": [
    "### Concatenate\n",
    "\n",
    "```python\n",
    "pd.concat([df1,df2,...] , axis = 0 , join = \"outer\", *keywds) \n",
    "```\n",
    "\n",
    "+ axis: 0 for pasting below, 1 for pasting on the side (order in list matters either way) \n",
    "\n",
    "What do you think will happen in the following case? \n",
    "\n",
    "```python\n",
    "df1 = pd.DataFrame({\"A\": pd.Series([1,2,3]), \"B\": pd.Series([4,5,6])})\n",
    "df2 = pd.DataFrame({\"A\": pd.Series([4]), \"C\": pd.Series([7])})\n",
    "df = pd.concat([df1,df2])\n",
    "print(df.loc[0])\n",
    "```\n",
    "\n",
    "The argument *join* can control the decisions to be taken in concatenating dataframes with key or index incompatibility. \n",
    "\n",
    "+ join: \"outer\" union, \"inner\" intersection \n",
    "\n",
    "What do you think will happen if we replace the concatenation step by: \n",
    "\n",
    "```python\n",
    "df = pd.concat([df1,df2], join = \"inner\")\n",
    "print(df.loc[0])\n",
    "```\n",
    "\n",
    "And what about this code? \n",
    "\n",
    "```python\n",
    "df1 = pd.DataFrame({\"A\": pd.Series([1,2,3]), \"B\": pd.Series([4,5,6])})\n",
    "df2 = pd.DataFrame({\"A\": pd.Series([4]), \"C\": pd.Series([7])})\n",
    "df = pd.concat([df1,df2],axis = 1,join = \"inner\")\n",
    "print(df[\"A\"])\n",
    "```\n",
    "\n",
    "\n"
   ]
  },
  {
   "cell_type": "markdown",
   "metadata": {
    "ein.tags": "worksheet-0",
    "slideshow": {
     "slide_type": "slide"
    }
   },
   "source": [
    "### Merge\n",
    "\n",
    "The concept here is to connect two DataFrames on some common piece of information, e.g. a common column. The structure of the command is: \n",
    "\n",
    "```python\n",
    "pd.merge(leftdf, rightdf, how = \"inner\", on = , *keywds)  \n",
    "```\n",
    "\n",
    "+ \"on\" defines on what piece of information the DataFrames will merge, this can be a column name or a list thereof\n",
    "+ \"how\" is more versatile than \"join\" in pd.concat. There are four options:\n",
    "    + \"inner\": intersection of keys\n",
    "    + \"outer\": union of keys\n",
    "    + \"left\": use keys from left only\n",
    "    + \"right\": use keys from right only\n",
    "\n",
    "\n",
    "We revisit the previous construct and try now to merge instead. What do you think will happen below: (and what about the index labels now, compared to pd.concat??) \n",
    "\n",
    "```python\n",
    "df1 = pd.DataFrame({\"A\": pd.Series([1,2,3]), \"B\": pd.Series([4,5,6])})\n",
    "df2 = pd.DataFrame({\"A\": pd.Series([4]), \"C\": pd.Series([7])})\n",
    "df = pd.merge(df1,df2,on = \"A\", how = \"outer\")\n",
    "print(df)\n",
    "```\n",
    "and what will happen if \"how\" changes to each of the other options?"
   ]
  },
  {
   "cell_type": "markdown",
   "metadata": {
    "ein.tags": "worksheet-0",
    "slideshow": {
     "slide_type": "-"
    }
   },
   "source": [
    "## Working with non-rectangular data\n",
    "\n",
    "We mentioned in the beginning that Pandas is a library for working with rectangular data. \n",
    "\n",
    "What if your data is not rectangular? What does non-rectangular data look like? Very often our data might come in dictionaries. Imagine data about a \"tweet\". It might look like this: \n",
    "\n",
    "\n",
    "```python\n",
    "{\n",
    "    \"screenname\": \"nandanrao\",\n",
    "    \"id_str\": \"928374987\",\n",
    "    \"text\": \"Woah, pandas is so much fun #worldrocked #jawdrop #win\",\n",
    "    \"hashtags\": [\"worldrocked\", \"jawdrop\", \"win\"]\n",
    "}\n",
    "```\n",
    "\n",
    "How would you fit this into a rectangular data format? Do the \"hashtags\" cause a problem? "
   ]
  },
  {
   "cell_type": "code",
   "execution_count": 58,
   "metadata": {
    "autoscroll": false,
    "ein.hycell": false,
    "ein.tags": "worksheet-0",
    "slideshow": {
     "slide_type": "-"
    }
   },
   "outputs": [
    {
     "data": {
      "text/html": [
       "<div>\n",
       "<style scoped>\n",
       "    .dataframe tbody tr th:only-of-type {\n",
       "        vertical-align: middle;\n",
       "    }\n",
       "\n",
       "    .dataframe tbody tr th {\n",
       "        vertical-align: top;\n",
       "    }\n",
       "\n",
       "    .dataframe thead th {\n",
       "        text-align: right;\n",
       "    }\n",
       "</style>\n",
       "<table border=\"1\" class=\"dataframe\">\n",
       "  <thead>\n",
       "    <tr style=\"text-align: right;\">\n",
       "      <th></th>\n",
       "      <th>hashtags</th>\n",
       "      <th>id_str</th>\n",
       "      <th>screenname</th>\n",
       "      <th>text</th>\n",
       "    </tr>\n",
       "  </thead>\n",
       "  <tbody>\n",
       "    <tr>\n",
       "      <th>0</th>\n",
       "      <td>[worldrocked, jawdrop, ml]</td>\n",
       "      <td>928374987</td>\n",
       "      <td>nandanrao</td>\n",
       "      <td>Woah, pandas is so much fun #worldrocked #jawd...</td>\n",
       "    </tr>\n",
       "    <tr>\n",
       "      <th>1</th>\n",
       "      <td>[datascience, ml, crossfit]</td>\n",
       "      <td>98214039</td>\n",
       "      <td>om</td>\n",
       "      <td>I eat linear models for breakfast #datascience...</td>\n",
       "    </tr>\n",
       "  </tbody>\n",
       "</table>\n",
       "</div>"
      ],
      "text/plain": [
       "                      hashtags     id_str screenname  \\\n",
       "0   [worldrocked, jawdrop, ml]  928374987  nandanrao   \n",
       "1  [datascience, ml, crossfit]   98214039         om   \n",
       "\n",
       "                                                text  \n",
       "0  Woah, pandas is so much fun #worldrocked #jawd...  \n",
       "1  I eat linear models for breakfast #datascience...  "
      ]
     },
     "execution_count": 58,
     "metadata": {},
     "output_type": "execute_result"
    }
   ],
   "source": [
    "raw_tweets = [{ \"screenname\": \"nandanrao\",\n",
    "          \"id_str\": \"928374987\",\n",
    "          \"text\": \"Woah, pandas is so much fun #worldrocked #jawdrop #ml\",\n",
    "          \"hashtags\": [\"worldrocked\", \"jawdrop\", \"ml\"]},\n",
    "          {\"screenname\": \"om\",\n",
    "           \"id_str\": \"98214039\",\n",
    "           \"text\": \"I eat linear models for breakfast #datascience #ml #crossfit\",\n",
    "           \"hashtags\": [\"datascience\", \"ml\", \"crossfit\"]}]\n",
    "\n",
    "tweets = pd.DataFrame(raw_tweets)\n",
    "\n",
    "# What is the \"hashtag\" column made of? \n",
    "tweets"
   ]
  },
  {
   "cell_type": "markdown",
   "metadata": {
    "ein.tags": "worksheet-0",
    "slideshow": {
     "slide_type": "-"
    }
   },
   "source": [
    "## Merge keeps the data flat\n",
    "\n",
    "The correct way to use data such as this in pandas, data with nested lists, is to copy each tweet to multiple rows, one row for each hashtag. \n",
    "\n",
    "We can use \"merge\" to do this for us automatically if we put the data into two separate dataframes, one for the hashtags and one for the rest of the tweets. This is called \"normalized form\" and is often how you will find data if you get it from a SQL database: "
   ]
  },
  {
   "cell_type": "code",
   "execution_count": 59,
   "metadata": {
    "autoscroll": false,
    "ein.hycell": false,
    "ein.tags": "worksheet-0",
    "slideshow": {
     "slide_type": "-"
    }
   },
   "outputs": [
    {
     "data": {
      "text/html": [
       "<div>\n",
       "<style scoped>\n",
       "    .dataframe tbody tr th:only-of-type {\n",
       "        vertical-align: middle;\n",
       "    }\n",
       "\n",
       "    .dataframe tbody tr th {\n",
       "        vertical-align: top;\n",
       "    }\n",
       "\n",
       "    .dataframe thead th {\n",
       "        text-align: right;\n",
       "    }\n",
       "</style>\n",
       "<table border=\"1\" class=\"dataframe\">\n",
       "  <thead>\n",
       "    <tr style=\"text-align: right;\">\n",
       "      <th></th>\n",
       "      <th>screenname</th>\n",
       "      <th>id_str</th>\n",
       "      <th>text</th>\n",
       "    </tr>\n",
       "  </thead>\n",
       "  <tbody>\n",
       "    <tr>\n",
       "      <th>0</th>\n",
       "      <td>nandanrao</td>\n",
       "      <td>928374987</td>\n",
       "      <td>Woah, pandas is so much fun #worldrocked #jawd...</td>\n",
       "    </tr>\n",
       "    <tr>\n",
       "      <th>1</th>\n",
       "      <td>om</td>\n",
       "      <td>98214039</td>\n",
       "      <td>I eat linear models for breakfast #datascience...</td>\n",
       "    </tr>\n",
       "  </tbody>\n",
       "</table>\n",
       "</div>"
      ],
      "text/plain": [
       "  screenname     id_str                                               text\n",
       "0  nandanrao  928374987  Woah, pandas is so much fun #worldrocked #jawd...\n",
       "1         om   98214039  I eat linear models for breakfast #datascience..."
      ]
     },
     "execution_count": 59,
     "metadata": {},
     "output_type": "execute_result"
    }
   ],
   "source": [
    "tweets = pd.DataFrame(raw_tweets, columns = [\"screenname\", \"id_str\", \"text\"])\n",
    "tweets"
   ]
  },
  {
   "cell_type": "code",
   "execution_count": 60,
   "metadata": {
    "autoscroll": false,
    "ein.hycell": false,
    "ein.tags": "worksheet-0",
    "slideshow": {
     "slide_type": "-"
    }
   },
   "outputs": [
    {
     "data": {
      "text/html": [
       "<div>\n",
       "<style scoped>\n",
       "    .dataframe tbody tr th:only-of-type {\n",
       "        vertical-align: middle;\n",
       "    }\n",
       "\n",
       "    .dataframe tbody tr th {\n",
       "        vertical-align: top;\n",
       "    }\n",
       "\n",
       "    .dataframe thead th {\n",
       "        text-align: right;\n",
       "    }\n",
       "</style>\n",
       "<table border=\"1\" class=\"dataframe\">\n",
       "  <thead>\n",
       "    <tr style=\"text-align: right;\">\n",
       "      <th></th>\n",
       "      <th>id_str</th>\n",
       "      <th>hashtag</th>\n",
       "    </tr>\n",
       "  </thead>\n",
       "  <tbody>\n",
       "    <tr>\n",
       "      <th>0</th>\n",
       "      <td>928374987</td>\n",
       "      <td>worldrocked</td>\n",
       "    </tr>\n",
       "    <tr>\n",
       "      <th>1</th>\n",
       "      <td>928374987</td>\n",
       "      <td>jawdrop</td>\n",
       "    </tr>\n",
       "    <tr>\n",
       "      <th>2</th>\n",
       "      <td>928374987</td>\n",
       "      <td>ml</td>\n",
       "    </tr>\n",
       "    <tr>\n",
       "      <th>3</th>\n",
       "      <td>98214039</td>\n",
       "      <td>datascience</td>\n",
       "    </tr>\n",
       "    <tr>\n",
       "      <th>4</th>\n",
       "      <td>98214039</td>\n",
       "      <td>ml</td>\n",
       "    </tr>\n",
       "    <tr>\n",
       "      <th>5</th>\n",
       "      <td>98214039</td>\n",
       "      <td>crossfit</td>\n",
       "    </tr>\n",
       "  </tbody>\n",
       "</table>\n",
       "</div>"
      ],
      "text/plain": [
       "      id_str      hashtag\n",
       "0  928374987  worldrocked\n",
       "1  928374987      jawdrop\n",
       "2  928374987           ml\n",
       "3   98214039  datascience\n",
       "4   98214039           ml\n",
       "5   98214039     crossfit"
      ]
     },
     "execution_count": 60,
     "metadata": {},
     "output_type": "execute_result"
    }
   ],
   "source": [
    "tags_and_ids = [(t['id_str'], tag) \n",
    "                for t in raw_tweets \n",
    "                for tag in t['hashtags']]\n",
    "\n",
    "hashtags = pd.DataFrame(tags_and_ids, columns = ['id_str', 'hashtag'])\n",
    "\n",
    "hashtags"
   ]
  },
  {
   "cell_type": "code",
   "execution_count": 61,
   "metadata": {
    "autoscroll": false,
    "ein.hycell": false,
    "ein.tags": "worksheet-0",
    "slideshow": {
     "slide_type": "-"
    }
   },
   "outputs": [
    {
     "data": {
      "text/html": [
       "<div>\n",
       "<style scoped>\n",
       "    .dataframe tbody tr th:only-of-type {\n",
       "        vertical-align: middle;\n",
       "    }\n",
       "\n",
       "    .dataframe tbody tr th {\n",
       "        vertical-align: top;\n",
       "    }\n",
       "\n",
       "    .dataframe thead th {\n",
       "        text-align: right;\n",
       "    }\n",
       "</style>\n",
       "<table border=\"1\" class=\"dataframe\">\n",
       "  <thead>\n",
       "    <tr style=\"text-align: right;\">\n",
       "      <th></th>\n",
       "      <th>screenname</th>\n",
       "      <th>id_str</th>\n",
       "      <th>text</th>\n",
       "      <th>hashtag</th>\n",
       "    </tr>\n",
       "  </thead>\n",
       "  <tbody>\n",
       "    <tr>\n",
       "      <th>0</th>\n",
       "      <td>nandanrao</td>\n",
       "      <td>928374987</td>\n",
       "      <td>Woah, pandas is so much fun #worldrocked #jawd...</td>\n",
       "      <td>worldrocked</td>\n",
       "    </tr>\n",
       "    <tr>\n",
       "      <th>1</th>\n",
       "      <td>nandanrao</td>\n",
       "      <td>928374987</td>\n",
       "      <td>Woah, pandas is so much fun #worldrocked #jawd...</td>\n",
       "      <td>jawdrop</td>\n",
       "    </tr>\n",
       "    <tr>\n",
       "      <th>2</th>\n",
       "      <td>nandanrao</td>\n",
       "      <td>928374987</td>\n",
       "      <td>Woah, pandas is so much fun #worldrocked #jawd...</td>\n",
       "      <td>ml</td>\n",
       "    </tr>\n",
       "    <tr>\n",
       "      <th>3</th>\n",
       "      <td>om</td>\n",
       "      <td>98214039</td>\n",
       "      <td>I eat linear models for breakfast #datascience...</td>\n",
       "      <td>datascience</td>\n",
       "    </tr>\n",
       "    <tr>\n",
       "      <th>4</th>\n",
       "      <td>om</td>\n",
       "      <td>98214039</td>\n",
       "      <td>I eat linear models for breakfast #datascience...</td>\n",
       "      <td>ml</td>\n",
       "    </tr>\n",
       "    <tr>\n",
       "      <th>5</th>\n",
       "      <td>om</td>\n",
       "      <td>98214039</td>\n",
       "      <td>I eat linear models for breakfast #datascience...</td>\n",
       "      <td>crossfit</td>\n",
       "    </tr>\n",
       "  </tbody>\n",
       "</table>\n",
       "</div>"
      ],
      "text/plain": [
       "  screenname     id_str                                               text  \\\n",
       "0  nandanrao  928374987  Woah, pandas is so much fun #worldrocked #jawd...   \n",
       "1  nandanrao  928374987  Woah, pandas is so much fun #worldrocked #jawd...   \n",
       "2  nandanrao  928374987  Woah, pandas is so much fun #worldrocked #jawd...   \n",
       "3         om   98214039  I eat linear models for breakfast #datascience...   \n",
       "4         om   98214039  I eat linear models for breakfast #datascience...   \n",
       "5         om   98214039  I eat linear models for breakfast #datascience...   \n",
       "\n",
       "       hashtag  \n",
       "0  worldrocked  \n",
       "1      jawdrop  \n",
       "2           ml  \n",
       "3  datascience  \n",
       "4           ml  \n",
       "5     crossfit  "
      ]
     },
     "execution_count": 61,
     "metadata": {},
     "output_type": "execute_result"
    }
   ],
   "source": [
    "df = tweets.merge(hashtags, how='left')\n",
    "\n",
    "df"
   ]
  },
  {
   "cell_type": "markdown",
   "metadata": {
    "ein.tags": "worksheet-0",
    "slideshow": {
     "slide_type": "-"
    }
   },
   "source": [
    "## Programming project: Customer of the month\n",
    "\n",
    "\n",
    "- We have a list of prices for certain products given in the file \"supermarket_prices.csv\"\n",
    "- We have a list of transactions from certain customers in a period of a month given in \"supermarket_transactions.csv\"\n",
    "\n",
    "Calculate\n",
    "- How many items each client has purchased\n",
    "- How many items of each type each client has purchased\n",
    "- Calculate the total amount spent by each client\n",
    "- The company that provides the supermarket with bananas wishes to give a prize to the client that has spent the largest proportion of their spending on bananas. Who should win the prize? \n",
    "- A marketing company that works with the supermarket is interested to understand better the characteristics of the three people that have spent most of their spending on bananas. For each one of them report the other product that they have spent most of their remaining income on\n",
    "\n",
    "*Needless to say that eyeballing is OK for making sure your code makes sense, but will not result in full credits for the project. We want a fully automated code. To carry out the project successfully you need to use most the attributes and methods described earlier. The last one is a little tricky*"
   ]
  },
  {
   "cell_type": "code",
   "execution_count": 62,
   "metadata": {
    "autoscroll": false,
    "ein.hycell": false,
    "ein.tags": "worksheet-0",
    "slideshow": {
     "slide_type": "-"
    }
   },
   "outputs": [
    {
     "data": {
      "text/html": [
       "<div>\n",
       "<style scoped>\n",
       "    .dataframe tbody tr th:only-of-type {\n",
       "        vertical-align: middle;\n",
       "    }\n",
       "\n",
       "    .dataframe tbody tr th {\n",
       "        vertical-align: top;\n",
       "    }\n",
       "\n",
       "    .dataframe thead th {\n",
       "        text-align: right;\n",
       "    }\n",
       "</style>\n",
       "<table border=\"1\" class=\"dataframe\">\n",
       "  <thead>\n",
       "    <tr style=\"text-align: right;\">\n",
       "      <th></th>\n",
       "      <th>Buyer</th>\n",
       "      <th>Product</th>\n",
       "      <th>Quantity</th>\n",
       "      <th>Price</th>\n",
       "      <th>spent</th>\n",
       "      <th>share</th>\n",
       "    </tr>\n",
       "  </thead>\n",
       "  <tbody>\n",
       "    <tr>\n",
       "      <th>0</th>\n",
       "      <td>Emma</td>\n",
       "      <td>apple</td>\n",
       "      <td>25</td>\n",
       "      <td>1.2</td>\n",
       "      <td>30.0</td>\n",
       "      <td>0.121753</td>\n",
       "    </tr>\n",
       "    <tr>\n",
       "      <th>1</th>\n",
       "      <td>Emma</td>\n",
       "      <td>banana</td>\n",
       "      <td>26</td>\n",
       "      <td>5.2</td>\n",
       "      <td>135.2</td>\n",
       "      <td>0.548701</td>\n",
       "    </tr>\n",
       "    <tr>\n",
       "      <th>2</th>\n",
       "      <td>Emma</td>\n",
       "      <td>potato</td>\n",
       "      <td>14</td>\n",
       "      <td>3.4</td>\n",
       "      <td>47.6</td>\n",
       "      <td>0.193182</td>\n",
       "    </tr>\n",
       "    <tr>\n",
       "      <th>3</th>\n",
       "      <td>Emma</td>\n",
       "      <td>tomato</td>\n",
       "      <td>16</td>\n",
       "      <td>2.1</td>\n",
       "      <td>33.6</td>\n",
       "      <td>0.136364</td>\n",
       "    </tr>\n",
       "    <tr>\n",
       "      <th>4</th>\n",
       "      <td>Jackson</td>\n",
       "      <td>apple</td>\n",
       "      <td>18</td>\n",
       "      <td>1.2</td>\n",
       "      <td>21.6</td>\n",
       "      <td>0.106509</td>\n",
       "    </tr>\n",
       "    <tr>\n",
       "      <th>5</th>\n",
       "      <td>Jackson</td>\n",
       "      <td>orange</td>\n",
       "      <td>28</td>\n",
       "      <td>4.3</td>\n",
       "      <td>120.4</td>\n",
       "      <td>0.593688</td>\n",
       "    </tr>\n",
       "    <tr>\n",
       "      <th>6</th>\n",
       "      <td>Jackson</td>\n",
       "      <td>potato</td>\n",
       "      <td>8</td>\n",
       "      <td>3.4</td>\n",
       "      <td>27.2</td>\n",
       "      <td>0.134122</td>\n",
       "    </tr>\n",
       "    <tr>\n",
       "      <th>7</th>\n",
       "      <td>Jackson</td>\n",
       "      <td>tomato</td>\n",
       "      <td>16</td>\n",
       "      <td>2.1</td>\n",
       "      <td>33.6</td>\n",
       "      <td>0.165680</td>\n",
       "    </tr>\n",
       "    <tr>\n",
       "      <th>8</th>\n",
       "      <td>John</td>\n",
       "      <td>apple</td>\n",
       "      <td>7</td>\n",
       "      <td>1.2</td>\n",
       "      <td>8.4</td>\n",
       "      <td>0.018209</td>\n",
       "    </tr>\n",
       "    <tr>\n",
       "      <th>9</th>\n",
       "      <td>John</td>\n",
       "      <td>banana</td>\n",
       "      <td>28</td>\n",
       "      <td>5.2</td>\n",
       "      <td>145.6</td>\n",
       "      <td>0.315630</td>\n",
       "    </tr>\n",
       "    <tr>\n",
       "      <th>10</th>\n",
       "      <td>John</td>\n",
       "      <td>orange</td>\n",
       "      <td>46</td>\n",
       "      <td>4.3</td>\n",
       "      <td>197.8</td>\n",
       "      <td>0.428788</td>\n",
       "    </tr>\n",
       "    <tr>\n",
       "      <th>11</th>\n",
       "      <td>John</td>\n",
       "      <td>potato</td>\n",
       "      <td>18</td>\n",
       "      <td>3.4</td>\n",
       "      <td>61.2</td>\n",
       "      <td>0.132669</td>\n",
       "    </tr>\n",
       "    <tr>\n",
       "      <th>12</th>\n",
       "      <td>John</td>\n",
       "      <td>tomato</td>\n",
       "      <td>23</td>\n",
       "      <td>2.1</td>\n",
       "      <td>48.3</td>\n",
       "      <td>0.104704</td>\n",
       "    </tr>\n",
       "    <tr>\n",
       "      <th>13</th>\n",
       "      <td>Liam</td>\n",
       "      <td>apple</td>\n",
       "      <td>21</td>\n",
       "      <td>1.2</td>\n",
       "      <td>25.2</td>\n",
       "      <td>0.095708</td>\n",
       "    </tr>\n",
       "    <tr>\n",
       "      <th>14</th>\n",
       "      <td>Liam</td>\n",
       "      <td>banana</td>\n",
       "      <td>16</td>\n",
       "      <td>5.2</td>\n",
       "      <td>83.2</td>\n",
       "      <td>0.315989</td>\n",
       "    </tr>\n",
       "    <tr>\n",
       "      <th>15</th>\n",
       "      <td>Liam</td>\n",
       "      <td>orange</td>\n",
       "      <td>16</td>\n",
       "      <td>4.3</td>\n",
       "      <td>68.8</td>\n",
       "      <td>0.261299</td>\n",
       "    </tr>\n",
       "    <tr>\n",
       "      <th>16</th>\n",
       "      <td>Liam</td>\n",
       "      <td>potato</td>\n",
       "      <td>21</td>\n",
       "      <td>3.4</td>\n",
       "      <td>71.4</td>\n",
       "      <td>0.271174</td>\n",
       "    </tr>\n",
       "    <tr>\n",
       "      <th>17</th>\n",
       "      <td>Liam</td>\n",
       "      <td>tomato</td>\n",
       "      <td>7</td>\n",
       "      <td>2.1</td>\n",
       "      <td>14.7</td>\n",
       "      <td>0.055830</td>\n",
       "    </tr>\n",
       "    <tr>\n",
       "      <th>18</th>\n",
       "      <td>Lucas</td>\n",
       "      <td>apple</td>\n",
       "      <td>14</td>\n",
       "      <td>1.2</td>\n",
       "      <td>16.8</td>\n",
       "      <td>0.095455</td>\n",
       "    </tr>\n",
       "    <tr>\n",
       "      <th>19</th>\n",
       "      <td>Lucas</td>\n",
       "      <td>banana</td>\n",
       "      <td>3</td>\n",
       "      <td>5.2</td>\n",
       "      <td>15.6</td>\n",
       "      <td>0.088636</td>\n",
       "    </tr>\n",
       "    <tr>\n",
       "      <th>20</th>\n",
       "      <td>Lucas</td>\n",
       "      <td>orange</td>\n",
       "      <td>17</td>\n",
       "      <td>4.3</td>\n",
       "      <td>73.1</td>\n",
       "      <td>0.415341</td>\n",
       "    </tr>\n",
       "    <tr>\n",
       "      <th>21</th>\n",
       "      <td>Lucas</td>\n",
       "      <td>potato</td>\n",
       "      <td>9</td>\n",
       "      <td>3.4</td>\n",
       "      <td>30.6</td>\n",
       "      <td>0.173864</td>\n",
       "    </tr>\n",
       "    <tr>\n",
       "      <th>22</th>\n",
       "      <td>Lucas</td>\n",
       "      <td>tomato</td>\n",
       "      <td>19</td>\n",
       "      <td>2.1</td>\n",
       "      <td>39.9</td>\n",
       "      <td>0.226705</td>\n",
       "    </tr>\n",
       "    <tr>\n",
       "      <th>23</th>\n",
       "      <td>Sandra</td>\n",
       "      <td>banana</td>\n",
       "      <td>2</td>\n",
       "      <td>5.2</td>\n",
       "      <td>10.4</td>\n",
       "      <td>0.034574</td>\n",
       "    </tr>\n",
       "    <tr>\n",
       "      <th>24</th>\n",
       "      <td>Sandra</td>\n",
       "      <td>orange</td>\n",
       "      <td>37</td>\n",
       "      <td>4.3</td>\n",
       "      <td>159.1</td>\n",
       "      <td>0.528923</td>\n",
       "    </tr>\n",
       "    <tr>\n",
       "      <th>25</th>\n",
       "      <td>Sandra</td>\n",
       "      <td>potato</td>\n",
       "      <td>38</td>\n",
       "      <td>3.4</td>\n",
       "      <td>129.2</td>\n",
       "      <td>0.429521</td>\n",
       "    </tr>\n",
       "    <tr>\n",
       "      <th>26</th>\n",
       "      <td>Sandra</td>\n",
       "      <td>tomato</td>\n",
       "      <td>1</td>\n",
       "      <td>2.1</td>\n",
       "      <td>2.1</td>\n",
       "      <td>0.006981</td>\n",
       "    </tr>\n",
       "    <tr>\n",
       "      <th>27</th>\n",
       "      <td>Sophia</td>\n",
       "      <td>apple</td>\n",
       "      <td>14</td>\n",
       "      <td>1.2</td>\n",
       "      <td>16.8</td>\n",
       "      <td>0.088701</td>\n",
       "    </tr>\n",
       "    <tr>\n",
       "      <th>28</th>\n",
       "      <td>Sophia</td>\n",
       "      <td>banana</td>\n",
       "      <td>13</td>\n",
       "      <td>5.2</td>\n",
       "      <td>67.6</td>\n",
       "      <td>0.356917</td>\n",
       "    </tr>\n",
       "    <tr>\n",
       "      <th>29</th>\n",
       "      <td>Sophia</td>\n",
       "      <td>orange</td>\n",
       "      <td>7</td>\n",
       "      <td>4.3</td>\n",
       "      <td>30.1</td>\n",
       "      <td>0.158923</td>\n",
       "    </tr>\n",
       "    <tr>\n",
       "      <th>30</th>\n",
       "      <td>Sophia</td>\n",
       "      <td>potato</td>\n",
       "      <td>14</td>\n",
       "      <td>3.4</td>\n",
       "      <td>47.6</td>\n",
       "      <td>0.251320</td>\n",
       "    </tr>\n",
       "    <tr>\n",
       "      <th>31</th>\n",
       "      <td>Sophia</td>\n",
       "      <td>tomato</td>\n",
       "      <td>13</td>\n",
       "      <td>2.1</td>\n",
       "      <td>27.3</td>\n",
       "      <td>0.144139</td>\n",
       "    </tr>\n",
       "    <tr>\n",
       "      <th>32</th>\n",
       "      <td>Tom</td>\n",
       "      <td>apple</td>\n",
       "      <td>18</td>\n",
       "      <td>1.2</td>\n",
       "      <td>21.6</td>\n",
       "      <td>0.171293</td>\n",
       "    </tr>\n",
       "    <tr>\n",
       "      <th>33</th>\n",
       "      <td>Tom</td>\n",
       "      <td>banana</td>\n",
       "      <td>6</td>\n",
       "      <td>5.2</td>\n",
       "      <td>31.2</td>\n",
       "      <td>0.247423</td>\n",
       "    </tr>\n",
       "    <tr>\n",
       "      <th>34</th>\n",
       "      <td>Tom</td>\n",
       "      <td>potato</td>\n",
       "      <td>16</td>\n",
       "      <td>3.4</td>\n",
       "      <td>54.4</td>\n",
       "      <td>0.431404</td>\n",
       "    </tr>\n",
       "    <tr>\n",
       "      <th>35</th>\n",
       "      <td>Tom</td>\n",
       "      <td>tomato</td>\n",
       "      <td>9</td>\n",
       "      <td>2.1</td>\n",
       "      <td>18.9</td>\n",
       "      <td>0.149881</td>\n",
       "    </tr>\n",
       "  </tbody>\n",
       "</table>\n",
       "</div>"
      ],
      "text/plain": [
       "      Buyer Product  Quantity  Price  spent     share\n",
       "0      Emma   apple        25    1.2   30.0  0.121753\n",
       "1      Emma  banana        26    5.2  135.2  0.548701\n",
       "2      Emma  potato        14    3.4   47.6  0.193182\n",
       "3      Emma  tomato        16    2.1   33.6  0.136364\n",
       "4   Jackson   apple        18    1.2   21.6  0.106509\n",
       "5   Jackson  orange        28    4.3  120.4  0.593688\n",
       "6   Jackson  potato         8    3.4   27.2  0.134122\n",
       "7   Jackson  tomato        16    2.1   33.6  0.165680\n",
       "8      John   apple         7    1.2    8.4  0.018209\n",
       "9      John  banana        28    5.2  145.6  0.315630\n",
       "10     John  orange        46    4.3  197.8  0.428788\n",
       "11     John  potato        18    3.4   61.2  0.132669\n",
       "12     John  tomato        23    2.1   48.3  0.104704\n",
       "13     Liam   apple        21    1.2   25.2  0.095708\n",
       "14     Liam  banana        16    5.2   83.2  0.315989\n",
       "15     Liam  orange        16    4.3   68.8  0.261299\n",
       "16     Liam  potato        21    3.4   71.4  0.271174\n",
       "17     Liam  tomato         7    2.1   14.7  0.055830\n",
       "18    Lucas   apple        14    1.2   16.8  0.095455\n",
       "19    Lucas  banana         3    5.2   15.6  0.088636\n",
       "20    Lucas  orange        17    4.3   73.1  0.415341\n",
       "21    Lucas  potato         9    3.4   30.6  0.173864\n",
       "22    Lucas  tomato        19    2.1   39.9  0.226705\n",
       "23   Sandra  banana         2    5.2   10.4  0.034574\n",
       "24   Sandra  orange        37    4.3  159.1  0.528923\n",
       "25   Sandra  potato        38    3.4  129.2  0.429521\n",
       "26   Sandra  tomato         1    2.1    2.1  0.006981\n",
       "27   Sophia   apple        14    1.2   16.8  0.088701\n",
       "28   Sophia  banana        13    5.2   67.6  0.356917\n",
       "29   Sophia  orange         7    4.3   30.1  0.158923\n",
       "30   Sophia  potato        14    3.4   47.6  0.251320\n",
       "31   Sophia  tomato        13    2.1   27.3  0.144139\n",
       "32      Tom   apple        18    1.2   21.6  0.171293\n",
       "33      Tom  banana         6    5.2   31.2  0.247423\n",
       "34      Tom  potato        16    3.4   54.4  0.431404\n",
       "35      Tom  tomato         9    2.1   18.9  0.149881"
      ]
     },
     "execution_count": 62,
     "metadata": {},
     "output_type": "execute_result"
    }
   ],
   "source": [
    "prices = pd.read_csv('supermarket_prices.csv')\n",
    "transactions = pd.read_csv('supermarket_transactions.csv')\n",
    "\n",
    "def assign_share(df):\n",
    "    df['spent'] = df.Quantity*df.Price\n",
    "    df['share'] = df.spent / df.spent.sum()\n",
    "    return df\n",
    "\n",
    "\n",
    "df = (transactions\n",
    "          .groupby(['Buyer', 'Product'])\n",
    "          .sum() # Sum Quantity, only column left\n",
    "          .reset_index()\n",
    "          .merge(prices, how='left', on='Product')\n",
    "          .groupby('Buyer', as_index=False)\n",
    "          .apply(assign_share)\n",
    "          .reset_index(drop=True))\n",
    "\n",
    "df"
   ]
  },
  {
   "cell_type": "code",
   "execution_count": 63,
   "metadata": {
    "autoscroll": false,
    "ein.hycell": false,
    "ein.tags": "worksheet-0",
    "slideshow": {
     "slide_type": "-"
    }
   },
   "outputs": [
    {
     "data": {
      "text/plain": [
       "Buyer\n",
       "Emma        81\n",
       "Jackson     70\n",
       "John       122\n",
       "Liam        81\n",
       "Lucas       62\n",
       "Sandra      78\n",
       "Sophia      61\n",
       "Tom         49\n",
       "Name: Quantity, dtype: int64"
      ]
     },
     "execution_count": 63,
     "metadata": {},
     "output_type": "execute_result"
    }
   ],
   "source": [
    "df.groupby(['Buyer']).Quantity.sum()"
   ]
  },
  {
   "cell_type": "code",
   "execution_count": 64,
   "metadata": {
    "autoscroll": false,
    "ein.hycell": false,
    "ein.tags": "worksheet-0",
    "slideshow": {
     "slide_type": "-"
    }
   },
   "outputs": [
    {
     "data": {
      "text/plain": [
       "Buyer    Product\n",
       "Emma     apple      25\n",
       "         banana     26\n",
       "         potato     14\n",
       "         tomato     16\n",
       "Jackson  apple      18\n",
       "         orange     28\n",
       "         potato      8\n",
       "         tomato     16\n",
       "John     apple       7\n",
       "         banana     28\n",
       "         orange     46\n",
       "         potato     18\n",
       "         tomato     23\n",
       "Liam     apple      21\n",
       "         banana     16\n",
       "         orange     16\n",
       "         potato     21\n",
       "         tomato      7\n",
       "Lucas    apple      14\n",
       "         banana      3\n",
       "         orange     17\n",
       "         potato      9\n",
       "         tomato     19\n",
       "Sandra   banana      2\n",
       "         orange     37\n",
       "         potato     38\n",
       "         tomato      1\n",
       "Sophia   apple      14\n",
       "         banana     13\n",
       "         orange      7\n",
       "         potato     14\n",
       "         tomato     13\n",
       "Tom      apple      18\n",
       "         banana      6\n",
       "         potato     16\n",
       "         tomato      9\n",
       "Name: Quantity, dtype: int64"
      ]
     },
     "execution_count": 64,
     "metadata": {},
     "output_type": "execute_result"
    }
   ],
   "source": [
    "df.groupby(['Buyer', 'Product']).Quantity.sum()"
   ]
  },
  {
   "cell_type": "code",
   "execution_count": 65,
   "metadata": {
    "autoscroll": false,
    "ein.hycell": false,
    "ein.tags": "worksheet-0",
    "slideshow": {
     "slide_type": "-"
    }
   },
   "outputs": [
    {
     "data": {
      "text/plain": [
       "1       Emma\n",
       "28    Sophia\n",
       "14      Liam\n",
       "Name: Buyer, dtype: object"
      ]
     },
     "execution_count": 65,
     "metadata": {},
     "output_type": "execute_result"
    }
   ],
   "source": [
    "top_products = (df\n",
    "                 .sort_values('share', ascending=False)\n",
    "                 .groupby('Buyer')\n",
    "                 .head(1))\n",
    "\n",
    "banana_buyers = top_products[top_products.Product == 'banana'].Buyer\n",
    "banana_buyers"
   ]
  },
  {
   "cell_type": "code",
   "execution_count": 66,
   "metadata": {
    "autoscroll": false,
    "ein.hycell": false,
    "ein.tags": "worksheet-0",
    "slideshow": {
     "slide_type": "-"
    }
   },
   "outputs": [
    {
     "data": {
      "text/html": [
       "<div>\n",
       "<style scoped>\n",
       "    .dataframe tbody tr th:only-of-type {\n",
       "        vertical-align: middle;\n",
       "    }\n",
       "\n",
       "    .dataframe tbody tr th {\n",
       "        vertical-align: top;\n",
       "    }\n",
       "\n",
       "    .dataframe thead th {\n",
       "        text-align: right;\n",
       "    }\n",
       "</style>\n",
       "<table border=\"1\" class=\"dataframe\">\n",
       "  <thead>\n",
       "    <tr style=\"text-align: right;\">\n",
       "      <th></th>\n",
       "      <th>Buyer</th>\n",
       "      <th>Product</th>\n",
       "      <th>Quantity</th>\n",
       "      <th>Price</th>\n",
       "      <th>spent</th>\n",
       "      <th>share</th>\n",
       "    </tr>\n",
       "  </thead>\n",
       "  <tbody>\n",
       "    <tr>\n",
       "      <th>16</th>\n",
       "      <td>Liam</td>\n",
       "      <td>potato</td>\n",
       "      <td>21</td>\n",
       "      <td>3.4</td>\n",
       "      <td>71.4</td>\n",
       "      <td>0.271174</td>\n",
       "    </tr>\n",
       "    <tr>\n",
       "      <th>30</th>\n",
       "      <td>Sophia</td>\n",
       "      <td>potato</td>\n",
       "      <td>14</td>\n",
       "      <td>3.4</td>\n",
       "      <td>47.6</td>\n",
       "      <td>0.251320</td>\n",
       "    </tr>\n",
       "    <tr>\n",
       "      <th>2</th>\n",
       "      <td>Emma</td>\n",
       "      <td>potato</td>\n",
       "      <td>14</td>\n",
       "      <td>3.4</td>\n",
       "      <td>47.6</td>\n",
       "      <td>0.193182</td>\n",
       "    </tr>\n",
       "  </tbody>\n",
       "</table>\n",
       "</div>"
      ],
      "text/plain": [
       "     Buyer Product  Quantity  Price  spent     share\n",
       "16    Liam  potato        21    3.4   71.4  0.271174\n",
       "30  Sophia  potato        14    3.4   47.6  0.251320\n",
       "2     Emma  potato        14    3.4   47.6  0.193182"
      ]
     },
     "execution_count": 66,
     "metadata": {},
     "output_type": "execute_result"
    }
   ],
   "source": [
    "(df\n",
    " [(df.Buyer.isin(banana_buyers) & (df.Product != 'banana'))]\n",
    " .sort_values('share', ascending=False)\n",
    " .groupby('Buyer')\n",
    " .head(1))"
   ]
  }
 ],
 "metadata": {
  "celltoolbar": "Slideshow",
  "kernelspec": {
   "display_name": "Python 3",
   "language": "python",
   "name": "python3"
  },
  "language_info": {
   "codemirror_mode": {
    "name": "ipython",
    "version": 3
   },
   "file_extension": ".py",
   "mimetype": "text/x-python",
   "name": "python",
   "nbconvert_exporter": "python",
   "pygments_lexer": "ipython3",
   "version": "3.7.3"
  },
  "name": "pandas.ipynb"
 },
 "nbformat": 4,
 "nbformat_minor": 2
}
